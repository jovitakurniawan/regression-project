{
 "cells": [
  {
   "cell_type": "markdown",
   "id": "7ff7ee89",
   "metadata": {},
   "source": [
    "# EDA into Medical Charges of US Population "
   ]
  },
  {
   "cell_type": "markdown",
   "id": "4b1f78eb",
   "metadata": {},
   "source": [
    "## 1. Importing Python Libraries and Dataset"
   ]
  },
  {
   "cell_type": "code",
   "execution_count": 2,
   "id": "88b8bb01",
   "metadata": {},
   "outputs": [],
   "source": [
    "import pandas as pd \n",
    "import math as math\n",
    "import seaborn as sns\n",
    "import matplotlib.pyplot as plt\n",
    "from statsmodels.stats.weightstats import ttest_ind\n",
    "import numpy as np\n",
    "import scipy.stats as stats"
   ]
  },
  {
   "cell_type": "code",
   "execution_count": 3,
   "id": "6f70a988",
   "metadata": {},
   "outputs": [],
   "source": [
    "# 1. Import insurance dataset \n",
    "data_csv = pd.read_csv('/Users/jkurniawan/Documents/Pacmann/Probability/Dataset/insurance.csv')"
   ]
  },
  {
   "cell_type": "markdown",
   "id": "9be7f9f8",
   "metadata": {},
   "source": [
    "## 2. Exploring Data "
   ]
  },
  {
   "cell_type": "code",
   "execution_count": 212,
   "id": "fb4b7023",
   "metadata": {},
   "outputs": [
    {
     "data": {
      "text/html": [
       "<div>\n",
       "<style scoped>\n",
       "    .dataframe tbody tr th:only-of-type {\n",
       "        vertical-align: middle;\n",
       "    }\n",
       "\n",
       "    .dataframe tbody tr th {\n",
       "        vertical-align: top;\n",
       "    }\n",
       "\n",
       "    .dataframe thead th {\n",
       "        text-align: right;\n",
       "    }\n",
       "</style>\n",
       "<table border=\"1\" class=\"dataframe\">\n",
       "  <thead>\n",
       "    <tr style=\"text-align: right;\">\n",
       "      <th></th>\n",
       "      <th>age</th>\n",
       "      <th>sex</th>\n",
       "      <th>bmi</th>\n",
       "      <th>children</th>\n",
       "      <th>smoker</th>\n",
       "      <th>region</th>\n",
       "      <th>charges</th>\n",
       "    </tr>\n",
       "  </thead>\n",
       "  <tbody>\n",
       "    <tr>\n",
       "      <th>0</th>\n",
       "      <td>19</td>\n",
       "      <td>female</td>\n",
       "      <td>27.900</td>\n",
       "      <td>0</td>\n",
       "      <td>yes</td>\n",
       "      <td>southwest</td>\n",
       "      <td>16884.92400</td>\n",
       "    </tr>\n",
       "    <tr>\n",
       "      <th>1</th>\n",
       "      <td>18</td>\n",
       "      <td>male</td>\n",
       "      <td>33.770</td>\n",
       "      <td>1</td>\n",
       "      <td>no</td>\n",
       "      <td>southeast</td>\n",
       "      <td>1725.55230</td>\n",
       "    </tr>\n",
       "    <tr>\n",
       "      <th>2</th>\n",
       "      <td>28</td>\n",
       "      <td>male</td>\n",
       "      <td>33.000</td>\n",
       "      <td>3</td>\n",
       "      <td>no</td>\n",
       "      <td>southeast</td>\n",
       "      <td>4449.46200</td>\n",
       "    </tr>\n",
       "    <tr>\n",
       "      <th>3</th>\n",
       "      <td>33</td>\n",
       "      <td>male</td>\n",
       "      <td>22.705</td>\n",
       "      <td>0</td>\n",
       "      <td>no</td>\n",
       "      <td>northwest</td>\n",
       "      <td>21984.47061</td>\n",
       "    </tr>\n",
       "    <tr>\n",
       "      <th>4</th>\n",
       "      <td>32</td>\n",
       "      <td>male</td>\n",
       "      <td>28.880</td>\n",
       "      <td>0</td>\n",
       "      <td>no</td>\n",
       "      <td>northwest</td>\n",
       "      <td>3866.85520</td>\n",
       "    </tr>\n",
       "    <tr>\n",
       "      <th>...</th>\n",
       "      <td>...</td>\n",
       "      <td>...</td>\n",
       "      <td>...</td>\n",
       "      <td>...</td>\n",
       "      <td>...</td>\n",
       "      <td>...</td>\n",
       "      <td>...</td>\n",
       "    </tr>\n",
       "    <tr>\n",
       "      <th>1333</th>\n",
       "      <td>50</td>\n",
       "      <td>male</td>\n",
       "      <td>30.970</td>\n",
       "      <td>3</td>\n",
       "      <td>no</td>\n",
       "      <td>northwest</td>\n",
       "      <td>10600.54830</td>\n",
       "    </tr>\n",
       "    <tr>\n",
       "      <th>1334</th>\n",
       "      <td>18</td>\n",
       "      <td>female</td>\n",
       "      <td>31.920</td>\n",
       "      <td>0</td>\n",
       "      <td>no</td>\n",
       "      <td>northeast</td>\n",
       "      <td>2205.98080</td>\n",
       "    </tr>\n",
       "    <tr>\n",
       "      <th>1335</th>\n",
       "      <td>18</td>\n",
       "      <td>female</td>\n",
       "      <td>36.850</td>\n",
       "      <td>0</td>\n",
       "      <td>no</td>\n",
       "      <td>southeast</td>\n",
       "      <td>1629.83350</td>\n",
       "    </tr>\n",
       "    <tr>\n",
       "      <th>1336</th>\n",
       "      <td>21</td>\n",
       "      <td>female</td>\n",
       "      <td>25.800</td>\n",
       "      <td>0</td>\n",
       "      <td>no</td>\n",
       "      <td>southwest</td>\n",
       "      <td>2007.94500</td>\n",
       "    </tr>\n",
       "    <tr>\n",
       "      <th>1337</th>\n",
       "      <td>61</td>\n",
       "      <td>female</td>\n",
       "      <td>29.070</td>\n",
       "      <td>0</td>\n",
       "      <td>yes</td>\n",
       "      <td>northwest</td>\n",
       "      <td>29141.36030</td>\n",
       "    </tr>\n",
       "  </tbody>\n",
       "</table>\n",
       "<p>1338 rows × 7 columns</p>\n",
       "</div>"
      ],
      "text/plain": [
       "      age     sex     bmi  children smoker     region      charges\n",
       "0      19  female  27.900         0    yes  southwest  16884.92400\n",
       "1      18    male  33.770         1     no  southeast   1725.55230\n",
       "2      28    male  33.000         3     no  southeast   4449.46200\n",
       "3      33    male  22.705         0     no  northwest  21984.47061\n",
       "4      32    male  28.880         0     no  northwest   3866.85520\n",
       "...   ...     ...     ...       ...    ...        ...          ...\n",
       "1333   50    male  30.970         3     no  northwest  10600.54830\n",
       "1334   18  female  31.920         0     no  northeast   2205.98080\n",
       "1335   18  female  36.850         0     no  southeast   1629.83350\n",
       "1336   21  female  25.800         0     no  southwest   2007.94500\n",
       "1337   61  female  29.070         0    yes  northwest  29141.36030\n",
       "\n",
       "[1338 rows x 7 columns]"
      ]
     },
     "execution_count": 212,
     "metadata": {},
     "output_type": "execute_result"
    }
   ],
   "source": [
    "# 2. Read data \n",
    "\n",
    "data_csv"
   ]
  },
  {
   "cell_type": "code",
   "execution_count": 213,
   "id": "d121a821",
   "metadata": {},
   "outputs": [
    {
     "name": "stdout",
     "output_type": "stream",
     "text": [
      "<class 'pandas.core.frame.DataFrame'>\n",
      "RangeIndex: 1338 entries, 0 to 1337\n",
      "Data columns (total 7 columns):\n",
      " #   Column    Non-Null Count  Dtype  \n",
      "---  ------    --------------  -----  \n",
      " 0   age       1338 non-null   int64  \n",
      " 1   sex       1338 non-null   object \n",
      " 2   bmi       1338 non-null   float64\n",
      " 3   children  1338 non-null   int64  \n",
      " 4   smoker    1338 non-null   object \n",
      " 5   region    1338 non-null   object \n",
      " 6   charges   1338 non-null   float64\n",
      "dtypes: float64(2), int64(2), object(3)\n",
      "memory usage: 73.3+ KB\n"
     ]
    }
   ],
   "source": [
    "# 2.1 Look at information of data columns\n",
    "\n",
    "data_csv.info()"
   ]
  },
  {
   "cell_type": "code",
   "execution_count": 97,
   "id": "15dac0fc",
   "metadata": {},
   "outputs": [
    {
     "data": {
      "text/html": [
       "<div>\n",
       "<style scoped>\n",
       "    .dataframe tbody tr th:only-of-type {\n",
       "        vertical-align: middle;\n",
       "    }\n",
       "\n",
       "    .dataframe tbody tr th {\n",
       "        vertical-align: top;\n",
       "    }\n",
       "\n",
       "    .dataframe thead th {\n",
       "        text-align: right;\n",
       "    }\n",
       "</style>\n",
       "<table border=\"1\" class=\"dataframe\">\n",
       "  <thead>\n",
       "    <tr style=\"text-align: right;\">\n",
       "      <th></th>\n",
       "      <th>age</th>\n",
       "      <th>bmi</th>\n",
       "      <th>children</th>\n",
       "      <th>charges</th>\n",
       "    </tr>\n",
       "  </thead>\n",
       "  <tbody>\n",
       "    <tr>\n",
       "      <th>count</th>\n",
       "      <td>1338.000000</td>\n",
       "      <td>1338.000000</td>\n",
       "      <td>1338.000000</td>\n",
       "      <td>1338.000000</td>\n",
       "    </tr>\n",
       "    <tr>\n",
       "      <th>mean</th>\n",
       "      <td>39.207025</td>\n",
       "      <td>30.663397</td>\n",
       "      <td>1.094918</td>\n",
       "      <td>13270.422265</td>\n",
       "    </tr>\n",
       "    <tr>\n",
       "      <th>std</th>\n",
       "      <td>14.049960</td>\n",
       "      <td>6.098187</td>\n",
       "      <td>1.205493</td>\n",
       "      <td>12110.011237</td>\n",
       "    </tr>\n",
       "    <tr>\n",
       "      <th>min</th>\n",
       "      <td>18.000000</td>\n",
       "      <td>15.960000</td>\n",
       "      <td>0.000000</td>\n",
       "      <td>1121.873900</td>\n",
       "    </tr>\n",
       "    <tr>\n",
       "      <th>25%</th>\n",
       "      <td>27.000000</td>\n",
       "      <td>26.296250</td>\n",
       "      <td>0.000000</td>\n",
       "      <td>4740.287150</td>\n",
       "    </tr>\n",
       "    <tr>\n",
       "      <th>50%</th>\n",
       "      <td>39.000000</td>\n",
       "      <td>30.400000</td>\n",
       "      <td>1.000000</td>\n",
       "      <td>9382.033000</td>\n",
       "    </tr>\n",
       "    <tr>\n",
       "      <th>75%</th>\n",
       "      <td>51.000000</td>\n",
       "      <td>34.693750</td>\n",
       "      <td>2.000000</td>\n",
       "      <td>16639.912515</td>\n",
       "    </tr>\n",
       "    <tr>\n",
       "      <th>max</th>\n",
       "      <td>64.000000</td>\n",
       "      <td>53.130000</td>\n",
       "      <td>5.000000</td>\n",
       "      <td>63770.428010</td>\n",
       "    </tr>\n",
       "  </tbody>\n",
       "</table>\n",
       "</div>"
      ],
      "text/plain": [
       "               age          bmi     children       charges\n",
       "count  1338.000000  1338.000000  1338.000000   1338.000000\n",
       "mean     39.207025    30.663397     1.094918  13270.422265\n",
       "std      14.049960     6.098187     1.205493  12110.011237\n",
       "min      18.000000    15.960000     0.000000   1121.873900\n",
       "25%      27.000000    26.296250     0.000000   4740.287150\n",
       "50%      39.000000    30.400000     1.000000   9382.033000\n",
       "75%      51.000000    34.693750     2.000000  16639.912515\n",
       "max      64.000000    53.130000     5.000000  63770.428010"
      ]
     },
     "execution_count": 97,
     "metadata": {},
     "output_type": "execute_result"
    }
   ],
   "source": [
    "# 2.2 Statistical Summary of Data\n",
    "\n",
    "data_csv.describe()"
   ]
  },
  {
   "cell_type": "code",
   "execution_count": 103,
   "id": "dbf5d695",
   "metadata": {},
   "outputs": [
    {
     "name": "stdout",
     "output_type": "stream",
     "text": [
      "smoker: ['yes' 'no'] region: ['southwest' 'southeast' 'northwest' 'northeast'] sex: ['female' 'male'] children: [0 1 3 2 5 4]\n"
     ]
    }
   ],
   "source": [
    "# 2.3 Examining each unique values in categorical variable \n",
    "\n",
    "smoker_values = data_csv ['smoker'].unique()\n",
    "region_values = data_csv ['region'].unique()\n",
    "sex_values = data_csv ['sex'].unique()\n",
    "children_values = data_csv ['children'].unique()\n",
    "\n",
    "print(f\"smoker: {smoker_values} region: {region_values} sex: {sex_values} children: {children_values}\")"
   ]
  },
  {
   "cell_type": "code",
   "execution_count": 104,
   "id": "76ed873c",
   "metadata": {},
   "outputs": [
    {
     "data": {
      "text/html": [
       "<div>\n",
       "<style scoped>\n",
       "    .dataframe tbody tr th:only-of-type {\n",
       "        vertical-align: middle;\n",
       "    }\n",
       "\n",
       "    .dataframe tbody tr th {\n",
       "        vertical-align: top;\n",
       "    }\n",
       "\n",
       "    .dataframe thead th {\n",
       "        text-align: right;\n",
       "    }\n",
       "</style>\n",
       "<table border=\"1\" class=\"dataframe\">\n",
       "  <thead>\n",
       "    <tr style=\"text-align: right;\">\n",
       "      <th></th>\n",
       "      <th>age</th>\n",
       "      <th>bmi</th>\n",
       "      <th>children</th>\n",
       "      <th>smoker</th>\n",
       "      <th>region</th>\n",
       "      <th>charges</th>\n",
       "      <th>bmi-range</th>\n",
       "    </tr>\n",
       "    <tr>\n",
       "      <th>sex</th>\n",
       "      <th></th>\n",
       "      <th></th>\n",
       "      <th></th>\n",
       "      <th></th>\n",
       "      <th></th>\n",
       "      <th></th>\n",
       "      <th></th>\n",
       "    </tr>\n",
       "  </thead>\n",
       "  <tbody>\n",
       "    <tr>\n",
       "      <th>female</th>\n",
       "      <td>662</td>\n",
       "      <td>662</td>\n",
       "      <td>662</td>\n",
       "      <td>662</td>\n",
       "      <td>662</td>\n",
       "      <td>662</td>\n",
       "      <td>660</td>\n",
       "    </tr>\n",
       "    <tr>\n",
       "      <th>male</th>\n",
       "      <td>676</td>\n",
       "      <td>676</td>\n",
       "      <td>676</td>\n",
       "      <td>676</td>\n",
       "      <td>676</td>\n",
       "      <td>676</td>\n",
       "      <td>676</td>\n",
       "    </tr>\n",
       "  </tbody>\n",
       "</table>\n",
       "</div>"
      ],
      "text/plain": [
       "        age  bmi  children  smoker  region  charges  bmi-range\n",
       "sex                                                           \n",
       "female  662  662       662     662     662      662        660\n",
       "male    676  676       676     676     676      676        676"
      ]
     },
     "execution_count": 104,
     "metadata": {},
     "output_type": "execute_result"
    }
   ],
   "source": [
    "# 2.3 Counting proportion in categorical variable\n",
    "\n",
    "data_csv.groupby('sex').count()"
   ]
  },
  {
   "cell_type": "code",
   "execution_count": 19,
   "id": "e01b364d",
   "metadata": {},
   "outputs": [
    {
     "data": {
      "text/html": [
       "<div>\n",
       "<style scoped>\n",
       "    .dataframe tbody tr th:only-of-type {\n",
       "        vertical-align: middle;\n",
       "    }\n",
       "\n",
       "    .dataframe tbody tr th {\n",
       "        vertical-align: top;\n",
       "    }\n",
       "\n",
       "    .dataframe thead th {\n",
       "        text-align: right;\n",
       "    }\n",
       "</style>\n",
       "<table border=\"1\" class=\"dataframe\">\n",
       "  <thead>\n",
       "    <tr style=\"text-align: right;\">\n",
       "      <th></th>\n",
       "      <th>age</th>\n",
       "      <th>sex</th>\n",
       "      <th>bmi</th>\n",
       "      <th>children</th>\n",
       "      <th>smoker</th>\n",
       "      <th>charges</th>\n",
       "    </tr>\n",
       "    <tr>\n",
       "      <th>region</th>\n",
       "      <th></th>\n",
       "      <th></th>\n",
       "      <th></th>\n",
       "      <th></th>\n",
       "      <th></th>\n",
       "      <th></th>\n",
       "    </tr>\n",
       "  </thead>\n",
       "  <tbody>\n",
       "    <tr>\n",
       "      <th>northeast</th>\n",
       "      <td>324</td>\n",
       "      <td>324</td>\n",
       "      <td>324</td>\n",
       "      <td>324</td>\n",
       "      <td>324</td>\n",
       "      <td>324</td>\n",
       "    </tr>\n",
       "    <tr>\n",
       "      <th>northwest</th>\n",
       "      <td>325</td>\n",
       "      <td>325</td>\n",
       "      <td>325</td>\n",
       "      <td>325</td>\n",
       "      <td>325</td>\n",
       "      <td>325</td>\n",
       "    </tr>\n",
       "    <tr>\n",
       "      <th>southeast</th>\n",
       "      <td>364</td>\n",
       "      <td>364</td>\n",
       "      <td>364</td>\n",
       "      <td>364</td>\n",
       "      <td>364</td>\n",
       "      <td>364</td>\n",
       "    </tr>\n",
       "    <tr>\n",
       "      <th>southwest</th>\n",
       "      <td>325</td>\n",
       "      <td>325</td>\n",
       "      <td>325</td>\n",
       "      <td>325</td>\n",
       "      <td>325</td>\n",
       "      <td>325</td>\n",
       "    </tr>\n",
       "  </tbody>\n",
       "</table>\n",
       "</div>"
      ],
      "text/plain": [
       "           age  sex  bmi  children  smoker  charges\n",
       "region                                             \n",
       "northeast  324  324  324       324     324      324\n",
       "northwest  325  325  325       325     325      325\n",
       "southeast  364  364  364       364     364      364\n",
       "southwest  325  325  325       325     325      325"
      ]
     },
     "execution_count": 19,
     "metadata": {},
     "output_type": "execute_result"
    }
   ],
   "source": [
    "data_csv.groupby('region').count()"
   ]
  },
  {
   "cell_type": "code",
   "execution_count": 20,
   "id": "323d0b4f",
   "metadata": {},
   "outputs": [
    {
     "data": {
      "text/html": [
       "<div>\n",
       "<style scoped>\n",
       "    .dataframe tbody tr th:only-of-type {\n",
       "        vertical-align: middle;\n",
       "    }\n",
       "\n",
       "    .dataframe tbody tr th {\n",
       "        vertical-align: top;\n",
       "    }\n",
       "\n",
       "    .dataframe thead th {\n",
       "        text-align: right;\n",
       "    }\n",
       "</style>\n",
       "<table border=\"1\" class=\"dataframe\">\n",
       "  <thead>\n",
       "    <tr style=\"text-align: right;\">\n",
       "      <th></th>\n",
       "      <th>age</th>\n",
       "      <th>sex</th>\n",
       "      <th>bmi</th>\n",
       "      <th>children</th>\n",
       "      <th>region</th>\n",
       "      <th>charges</th>\n",
       "    </tr>\n",
       "    <tr>\n",
       "      <th>smoker</th>\n",
       "      <th></th>\n",
       "      <th></th>\n",
       "      <th></th>\n",
       "      <th></th>\n",
       "      <th></th>\n",
       "      <th></th>\n",
       "    </tr>\n",
       "  </thead>\n",
       "  <tbody>\n",
       "    <tr>\n",
       "      <th>no</th>\n",
       "      <td>1064</td>\n",
       "      <td>1064</td>\n",
       "      <td>1064</td>\n",
       "      <td>1064</td>\n",
       "      <td>1064</td>\n",
       "      <td>1064</td>\n",
       "    </tr>\n",
       "    <tr>\n",
       "      <th>yes</th>\n",
       "      <td>274</td>\n",
       "      <td>274</td>\n",
       "      <td>274</td>\n",
       "      <td>274</td>\n",
       "      <td>274</td>\n",
       "      <td>274</td>\n",
       "    </tr>\n",
       "  </tbody>\n",
       "</table>\n",
       "</div>"
      ],
      "text/plain": [
       "         age   sex   bmi  children  region  charges\n",
       "smoker                                             \n",
       "no      1064  1064  1064      1064    1064     1064\n",
       "yes      274   274   274       274     274      274"
      ]
     },
     "execution_count": 20,
     "metadata": {},
     "output_type": "execute_result"
    }
   ],
   "source": [
    "data_csv.groupby('smoker').count()"
   ]
  },
  {
   "cell_type": "code",
   "execution_count": 102,
   "id": "2005e367",
   "metadata": {},
   "outputs": [
    {
     "data": {
      "text/html": [
       "<div>\n",
       "<style scoped>\n",
       "    .dataframe tbody tr th:only-of-type {\n",
       "        vertical-align: middle;\n",
       "    }\n",
       "\n",
       "    .dataframe tbody tr th {\n",
       "        vertical-align: top;\n",
       "    }\n",
       "\n",
       "    .dataframe thead th {\n",
       "        text-align: right;\n",
       "    }\n",
       "</style>\n",
       "<table border=\"1\" class=\"dataframe\">\n",
       "  <thead>\n",
       "    <tr style=\"text-align: right;\">\n",
       "      <th></th>\n",
       "      <th>age</th>\n",
       "      <th>sex</th>\n",
       "      <th>bmi</th>\n",
       "      <th>smoker</th>\n",
       "      <th>region</th>\n",
       "      <th>charges</th>\n",
       "      <th>bmi-range</th>\n",
       "    </tr>\n",
       "    <tr>\n",
       "      <th>children</th>\n",
       "      <th></th>\n",
       "      <th></th>\n",
       "      <th></th>\n",
       "      <th></th>\n",
       "      <th></th>\n",
       "      <th></th>\n",
       "      <th></th>\n",
       "    </tr>\n",
       "  </thead>\n",
       "  <tbody>\n",
       "    <tr>\n",
       "      <th>0</th>\n",
       "      <td>574</td>\n",
       "      <td>574</td>\n",
       "      <td>574</td>\n",
       "      <td>574</td>\n",
       "      <td>574</td>\n",
       "      <td>574</td>\n",
       "      <td>573</td>\n",
       "    </tr>\n",
       "    <tr>\n",
       "      <th>1</th>\n",
       "      <td>324</td>\n",
       "      <td>324</td>\n",
       "      <td>324</td>\n",
       "      <td>324</td>\n",
       "      <td>324</td>\n",
       "      <td>324</td>\n",
       "      <td>323</td>\n",
       "    </tr>\n",
       "    <tr>\n",
       "      <th>2</th>\n",
       "      <td>240</td>\n",
       "      <td>240</td>\n",
       "      <td>240</td>\n",
       "      <td>240</td>\n",
       "      <td>240</td>\n",
       "      <td>240</td>\n",
       "      <td>240</td>\n",
       "    </tr>\n",
       "    <tr>\n",
       "      <th>3</th>\n",
       "      <td>157</td>\n",
       "      <td>157</td>\n",
       "      <td>157</td>\n",
       "      <td>157</td>\n",
       "      <td>157</td>\n",
       "      <td>157</td>\n",
       "      <td>157</td>\n",
       "    </tr>\n",
       "    <tr>\n",
       "      <th>4</th>\n",
       "      <td>25</td>\n",
       "      <td>25</td>\n",
       "      <td>25</td>\n",
       "      <td>25</td>\n",
       "      <td>25</td>\n",
       "      <td>25</td>\n",
       "      <td>25</td>\n",
       "    </tr>\n",
       "    <tr>\n",
       "      <th>5</th>\n",
       "      <td>18</td>\n",
       "      <td>18</td>\n",
       "      <td>18</td>\n",
       "      <td>18</td>\n",
       "      <td>18</td>\n",
       "      <td>18</td>\n",
       "      <td>18</td>\n",
       "    </tr>\n",
       "  </tbody>\n",
       "</table>\n",
       "</div>"
      ],
      "text/plain": [
       "          age  sex  bmi  smoker  region  charges  bmi-range\n",
       "children                                                   \n",
       "0         574  574  574     574     574      574        573\n",
       "1         324  324  324     324     324      324        323\n",
       "2         240  240  240     240     240      240        240\n",
       "3         157  157  157     157     157      157        157\n",
       "4          25   25   25      25      25       25         25\n",
       "5          18   18   18      18      18       18         18"
      ]
     },
     "execution_count": 102,
     "metadata": {},
     "output_type": "execute_result"
    }
   ],
   "source": [
    "data_csv.groupby('children').count()"
   ]
  },
  {
   "cell_type": "markdown",
   "id": "bde1bd3c",
   "metadata": {},
   "source": [
    "## 3 Statistical Analysis "
   ]
  },
  {
   "cell_type": "markdown",
   "id": "d5e74f94",
   "metadata": {},
   "source": [
    "### 3.1 Descriptive Statistical Analysis"
   ]
  },
  {
   "cell_type": "markdown",
   "id": "6ccc09cb",
   "metadata": {},
   "source": [
    "### 3.1.1 What is the average BMI of US population who smokes? "
   ]
  },
  {
   "cell_type": "code",
   "execution_count": 217,
   "id": "f6a1a384",
   "metadata": {},
   "outputs": [
    {
     "name": "stdout",
     "output_type": "stream",
     "text": [
      "Average BMI is: 30.66\n",
      "Average BMI of smokers is: 30.71\n",
      "Average BMI of non-smokers is: 30.65\n"
     ]
    }
   ],
   "source": [
    "df = data_csv \n",
    "\n",
    "mean_bmi_smokers = df.loc[df['smoker']=='yes', 'bmi'].mean()\n",
    "mean_bmi_nonsmokers = df.loc[df['smoker']=='no', 'bmi'].mean()\n",
    "mean_bmi = df['bmi'].mean()\n",
    "\n",
    "print(f\"Average BMI is: {mean_bmi:.2f}\")\n",
    "print(f\"Average BMI of smokers is: {mean_bmi_smokers:.2f}\")\n",
    "print(f\"Average BMI of non-smokers is: {mean_bmi_nonsmokers:.2f}\")"
   ]
  },
  {
   "cell_type": "markdown",
   "id": "b1d47dd3",
   "metadata": {},
   "source": [
    "### 3.1.2 Is the variance of charges for smokers equal to non-smokers?"
   ]
  },
  {
   "cell_type": "code",
   "execution_count": 109,
   "id": "a0aecb21",
   "metadata": {},
   "outputs": [
    {
     "name": "stdout",
     "output_type": "stream",
     "text": [
      "Variance Charges of smokers is: 133207311.21\n",
      "Variance Charges of non-smokers is: 35925420.50\n"
     ]
    }
   ],
   "source": [
    "df = data_csv\n",
    "\n",
    "var_charges_smokers = df.loc[df['smoker']=='yes', 'charges'].var()\n",
    "\n",
    "var_charges_nonsmokers = df.loc[df['smoker']=='no', 'charges'].var()\n",
    "\n",
    "print(f\"Variance Charges of smokers is: {var_charges_smokers:.2f}\")\n",
    "print(f\"Variance Charges of non-smokers is: {var_charges_nonsmokers:.2f}\")"
   ]
  },
  {
   "cell_type": "markdown",
   "id": "25d24962",
   "metadata": {},
   "source": [
    "#### Note: a better way to compare the distribution of charges data point between smokers vs non smokers is through standard deviation."
   ]
  },
  {
   "cell_type": "code",
   "execution_count": 220,
   "id": "9cdedaaa",
   "metadata": {},
   "outputs": [
    {
     "name": "stdout",
     "output_type": "stream",
     "text": [
      "Average Charges of smokers is: USD 32050.23\n",
      "Average Charges of non-smokers is: USD 8434.27\n",
      "Standard Deviation Charges of smokers is: USD 11541.55\n",
      "Standard Deviation Charges of non-smokers is: USD 5993.78\n",
      "Variation of Chargers for Smokers: USD 32050.23 ± 11541.55\n",
      "Variation of Chargers for Non-smokers: USD 8434.27 ± 5993.78\n"
     ]
    }
   ],
   "source": [
    "df = data_csv\n",
    "df_smoker = df.loc[df['smoker']=='yes', 'charges']\n",
    "df_nonsmoker = df.loc[df['smoker']=='no', 'charges']\n",
    "\n",
    "mean_smokers = df_smoker.mean()\n",
    "mean_nonsmokers = df_nonsmoker.mean()\n",
    "stdev_charges_smokers = math.sqrt(var_charges_smokers)\n",
    "stdev_charges_nonsmokers = math.sqrt(var_charges_nonsmokers)\n",
    "\n",
    "print(f\"Average Charges of smokers is: USD {mean_smokers:.2f}\")\n",
    "print(f\"Average Charges of non-smokers is: USD {mean_nonsmokers:.2f}\")\n",
    "print(f\"Standard Deviation Charges of smokers is: USD {stdev_charges_smokers:.2f}\")\n",
    "print(f\"Standard Deviation Charges of non-smokers is: USD {stdev_charges_nonsmokers:.2f}\")\n",
    "print(f\"Variation of Chargers for Smokers: USD {mean_smokers:.2f} ± {stdev_charges_smokers:.2f}\")\n",
    "print(f\"Variation of Chargers for Non-smokers: USD {mean_nonsmokers:.2f} ± {stdev_charges_nonsmokers:.2f}\")"
   ]
  },
  {
   "cell_type": "code",
   "execution_count": 111,
   "id": "ce21be82",
   "metadata": {},
   "outputs": [
    {
     "name": "stdout",
     "output_type": "stream",
     "text": [
      "Variance of charges for smokers: 133207311.21 is greater than non-smokers: 133207311.21\n"
     ]
    }
   ],
   "source": [
    "if var_charges_smokers > var_charges_nonsmokers:\n",
    "    print(f\"Variance of charges for smokers: {var_charges_smokers:.2f} is greater than non-smokers: {var_charges_smokers:.2f}\")\n",
    "elif var_charges_smokers == var_charges_nonsmokers: \n",
    "    print((f\"Variance of charges for smokers: {var_charges_smokers:.2f} is equal to non-smokers: {var_charges_smokers:.2f}\"))\n",
    "else:\n",
    "    print((f\"Variance of charges for smokers: {var_charges_smokers:.2f} is less than non-smokers: {var_charges_smokers:.2f}\"))"
   ]
  },
  {
   "cell_type": "markdown",
   "id": "f76f58c2",
   "metadata": {},
   "source": [
    "### 3.1.3 Average charges for smokers and non-smokers"
   ]
  },
  {
   "cell_type": "code",
   "execution_count": 112,
   "id": "f73c65a9",
   "metadata": {},
   "outputs": [
    {
     "name": "stdout",
     "output_type": "stream",
     "text": [
      "Average Charges of smokers is: USD 32050.23\n"
     ]
    }
   ],
   "source": [
    "# Smoker average charges \n",
    "\n",
    "mean_charges_smokers = df.loc[df['smoker']=='yes', 'charges'].mean()\n",
    "\n",
    "print(f\"Average Charges of smokers is: USD {mean_charges_smokers:.2f}\")"
   ]
  },
  {
   "cell_type": "code",
   "execution_count": 113,
   "id": "68a6f3dd",
   "metadata": {},
   "outputs": [
    {
     "name": "stdout",
     "output_type": "stream",
     "text": [
      "Average Charges of non-smokers is: USD 8434.27\n"
     ]
    }
   ],
   "source": [
    "# Non Smoker average charges \n",
    "\n",
    "mean_charges_nonsmokers = df.loc[df['smoker']=='no', 'charges'].mean()\n",
    "\n",
    "print(f\"Average Charges of non-smokers is: USD {mean_charges_nonsmokers:.2f}\")"
   ]
  },
  {
   "cell_type": "markdown",
   "id": "e637469d",
   "metadata": {},
   "source": [
    "### 3.1.4 Is the average charges for smokers higher than non-smokers?"
   ]
  },
  {
   "cell_type": "code",
   "execution_count": 116,
   "id": "f65ff067",
   "metadata": {},
   "outputs": [
    {
     "name": "stdout",
     "output_type": "stream",
     "text": [
      "Avg charges for smokers: USD 32050.23 is greater than non-smokers: USD 8434.27\n"
     ]
    }
   ],
   "source": [
    "if mean_charges_smokers > mean_charges_nonsmokers:\n",
    "    print(f\"Avg charges for smokers: USD {mean_charges_smokers:.2f} is greater than non-smokers: USD {mean_charges_nonsmokers:.2f}\")\n",
    "elif mean_charges_smokers == mean_charges_nonsmokers: \n",
    "    print((f\"Avg charges for smokers: USD {mean_charges_smokers:.2f} is equal to non-smokers: USD {mean_charges_nonsmokers:.2f}\"))\n",
    "else:\n",
    "    print((f\"Avg charges for smokers: USD {mean_charges_smokers:.2f} is less than non-smokers: USD {mean_charges_nonsmokers:.2f}\"))"
   ]
  },
  {
   "cell_type": "markdown",
   "id": "ad87ec47",
   "metadata": {},
   "source": [
    "### 3.1.5 Is the average chargers for US invidiuals with BMI >25 higher than BMI < 25?"
   ]
  },
  {
   "cell_type": "code",
   "execution_count": 119,
   "id": "3df31972",
   "metadata": {},
   "outputs": [
    {
     "name": "stdout",
     "output_type": "stream",
     "text": [
      "Average charges of smokers with BMI > 25: USD 35116.91\n",
      "Average charges of non-smokers with BMI > 25: USD 8629.59\n"
     ]
    }
   ],
   "source": [
    "df = data_csv\n",
    "# Charges of smokers & BMI > 25 \n",
    "mean_charges_smokers_bmigt25 = df.loc[((df['smoker'] == 'yes') & (df['bmi'] > 25)) , 'charges'].mean()\n",
    "\n",
    "# Charges of nonsmokers & BMI > 25\n",
    "mean_charges_nonsmokers_bmigt25 = df.loc[((df['smoker'] == 'no') & (df['bmi'] > 25)) , 'charges'].mean()\n",
    "\n",
    "print(f\"Average charges of smokers with BMI > 25: USD {mean_charges_smokers_bmigt25:.2f}\")\n",
    "print(f\"Average charges of non-smokers with BMI > 25: USD {mean_charges_nonsmokers_bmigt25:.2f}\")"
   ]
  },
  {
   "cell_type": "code",
   "execution_count": 120,
   "id": "3fd61041",
   "metadata": {},
   "outputs": [
    {
     "name": "stdout",
     "output_type": "stream",
     "text": [
      "Avg charges for smokers with BMI > 25: USD 35116.91 is greater than smokers with BMI < 25: USD 8629.59\n"
     ]
    }
   ],
   "source": [
    "if mean_charges_smokers_bmigt25 > mean_charges_nonsmokers_bmigt25:\n",
    "    print(f\"Avg charges for smokers with BMI > 25: USD {mean_charges_smokers_bmigt25:.2f} is greater than smokers with BMI < 25: USD {mean_charges_nonsmokers_bmigt25:.2f}\")\n",
    "elif mean_charges_smokers_bmigt25 == mean_charges_nonsmokers_bmigt25: \n",
    "    print((f\"Avg charges for smokers with BMI > 25: USD {mean_charges_smokers_bmigt25:.2f} is equal to smokers with BMI < 25: USD {mean_charges_nonsmokers_bmigt25:.2f}\"))\n",
    "else:\n",
    "    print((f\"Avg charges for smokers with BMI > 25: USD {mean_charges_smokers_bmigt25:.2f} is less than smokers with BMI < 25: USD {mean_charges_nonsmokers_bmigt25:.2f}\"))"
   ]
  },
  {
   "cell_type": "markdown",
   "id": "96fdcd60",
   "metadata": {},
   "source": [
    "### 3.2 Categorical Variable Analysis "
   ]
  },
  {
   "cell_type": "markdown",
   "id": "dcf7110d",
   "metadata": {},
   "source": [
    "### 3.2.1 Which gender has higher average chargers? "
   ]
  },
  {
   "cell_type": "code",
   "execution_count": 224,
   "id": "1523a73b",
   "metadata": {},
   "outputs": [
    {
     "name": "stdout",
     "output_type": "stream",
     "text": [
      "Average charges by sex - male: USD 13956.75, female: USD 12569.58\n",
      "Difference between average: USD 1387.17\n"
     ]
    }
   ],
   "source": [
    "df = data_csv \n",
    "\n",
    "female_avg_charges = df.loc[df['sex']=='female', 'charges'].mean()\n",
    "\n",
    "male_avg_charges = df.loc[df['sex']=='male', 'charges'].mean()\n",
    "\n",
    "print(f\"Average charges by sex - male: USD {male_avg_charges:.2f}, female: USD {female_avg_charges:.2f}\")\n",
    "\n",
    "diff = male_avg_charges - female_avg_charges \n",
    "\n",
    "print(f\"Difference between average: USD {diff:.2f}\")"
   ]
  },
  {
   "cell_type": "code",
   "execution_count": 135,
   "id": "f51bb780",
   "metadata": {},
   "outputs": [
    {
     "data": {
      "text/plain": [
       "[Text(0.5, 1.0, 'Distribution of Charges by Sex'),\n",
       " Text(0.5, 0, 'Sex'),\n",
       " Text(0, 0.5, 'Charges [USD]')]"
      ]
     },
     "execution_count": 135,
     "metadata": {},
     "output_type": "execute_result"
    },
    {
     "data": {
      "image/png": "[encoded data removed]",
      "text/plain": [
       "<Figure size 432x288 with 1 Axes>"
      ]
     },
     "metadata": {
      "needs_background": "light"
     },
     "output_type": "display_data"
    }
   ],
   "source": [
    "df = data_csv \n",
    "\n",
    "df_filt = df.filter(items=['sex', 'charges'])\n",
    "\n",
    "sns.boxplot(data=df_filt, x=\"sex\", y=\"charges\").set(title=\"Distribution of Charges by Sex\", xlabel=\"Sex\", ylabel=\"Charges [USD]\")"
   ]
  },
  {
   "cell_type": "code",
   "execution_count": 137,
   "id": "f54d8282",
   "metadata": {},
   "outputs": [
    {
     "data": {
      "text/html": [
       "<div>\n",
       "<style scoped>\n",
       "    .dataframe tbody tr th:only-of-type {\n",
       "        vertical-align: middle;\n",
       "    }\n",
       "\n",
       "    .dataframe tbody tr th {\n",
       "        vertical-align: top;\n",
       "    }\n",
       "\n",
       "    .dataframe thead th {\n",
       "        text-align: right;\n",
       "    }\n",
       "</style>\n",
       "<table border=\"1\" class=\"dataframe\">\n",
       "  <thead>\n",
       "    <tr style=\"text-align: right;\">\n",
       "      <th></th>\n",
       "      <th>count</th>\n",
       "      <th>mean</th>\n",
       "      <th>std</th>\n",
       "      <th>min</th>\n",
       "      <th>25%</th>\n",
       "      <th>50%</th>\n",
       "      <th>75%</th>\n",
       "      <th>max</th>\n",
       "    </tr>\n",
       "    <tr>\n",
       "      <th>sex</th>\n",
       "      <th></th>\n",
       "      <th></th>\n",
       "      <th></th>\n",
       "      <th></th>\n",
       "      <th></th>\n",
       "      <th></th>\n",
       "      <th></th>\n",
       "      <th></th>\n",
       "    </tr>\n",
       "  </thead>\n",
       "  <tbody>\n",
       "    <tr>\n",
       "      <th>female</th>\n",
       "      <td>662.0</td>\n",
       "      <td>12569.578844</td>\n",
       "      <td>11128.703801</td>\n",
       "      <td>1607.5101</td>\n",
       "      <td>4885.1587</td>\n",
       "      <td>9412.96250</td>\n",
       "      <td>14454.691825</td>\n",
       "      <td>63770.42801</td>\n",
       "    </tr>\n",
       "    <tr>\n",
       "      <th>male</th>\n",
       "      <td>676.0</td>\n",
       "      <td>13956.751178</td>\n",
       "      <td>12971.025915</td>\n",
       "      <td>1121.8739</td>\n",
       "      <td>4619.1340</td>\n",
       "      <td>9369.61575</td>\n",
       "      <td>18989.590250</td>\n",
       "      <td>62592.87309</td>\n",
       "    </tr>\n",
       "  </tbody>\n",
       "</table>\n",
       "</div>"
      ],
      "text/plain": [
       "        count          mean           std        min        25%         50%  \\\n",
       "sex                                                                           \n",
       "female  662.0  12569.578844  11128.703801  1607.5101  4885.1587  9412.96250   \n",
       "male    676.0  13956.751178  12971.025915  1121.8739  4619.1340  9369.61575   \n",
       "\n",
       "                 75%          max  \n",
       "sex                                \n",
       "female  14454.691825  63770.42801  \n",
       "male    18989.590250  62592.87309  "
      ]
     },
     "execution_count": 137,
     "metadata": {},
     "output_type": "execute_result"
    }
   ],
   "source": [
    "df_filt.groupby('sex')['charges'].describe()"
   ]
  },
  {
   "cell_type": "code",
   "execution_count": 123,
   "id": "f22a7466",
   "metadata": {},
   "outputs": [
    {
     "name": "stdout",
     "output_type": "stream",
     "text": [
      "Avg charges for male: USD 13956.75 is greater than female: USD 12569.58\n"
     ]
    }
   ],
   "source": [
    "if male_avg_charges > female_avg_charges:\n",
    "    print(f\"Avg charges for male: USD {male_avg_charges:.2f} is greater than female: USD {female_avg_charges:.2f}\")\n",
    "elif male_avg_charges == female_avg_charges: \n",
    "    print((f\"Avg charges for male: USD {male_avg_charges:.2f} is equal to female: USD {female_avg_charges:.2f}\"))\n",
    "else:\n",
    "    print((f\"Avg charges for male: USD {male_avg_charges:.2f} is less than female: USD {female_avg_charges:.2f}\"))"
   ]
  },
  {
   "cell_type": "markdown",
   "id": "da3f6714",
   "metadata": {},
   "source": [
    "### 3.2.2 Is proportion of individuals who are smokers greater than non-smokers?"
   ]
  },
  {
   "cell_type": "code",
   "execution_count": 125,
   "id": "ead9cbff",
   "metadata": {},
   "outputs": [
    {
     "name": "stdout",
     "output_type": "stream",
     "text": [
      "Proportion of sample - smokers: 20.48%, non-smokers: 79.52%\n"
     ]
    }
   ],
   "source": [
    "df = data_csv\n",
    "\n",
    "n = df['smoker'].count()\n",
    "\n",
    "n_smokers = df.loc[df['smoker']=='yes', 'smoker'].count()\n",
    "\n",
    "n_nonsmokers = df.loc[df['smoker']=='no', 'smoker'].count()\n",
    "\n",
    "\n",
    "p_smokers = n_smokers / n \n",
    "percent_smokers = p_smokers * 100\n",
    "p_nonsmokers = n_nonsmokers / n \n",
    "percent_nonsmokers = p_nonsmokers * 100\n",
    "\n",
    "print(f\"Proportion of sample - smokers: {percent_smokers:.2f}%, non-smokers: {percent_nonsmokers:.2f}%\")"
   ]
  },
  {
   "cell_type": "markdown",
   "id": "0713cd0a",
   "metadata": {},
   "source": [
    "### 3.2.3 What is the probability of an individual is a female given that she is a smoker?"
   ]
  },
  {
   "cell_type": "code",
   "execution_count": 127,
   "id": "3e0dad54",
   "metadata": {},
   "outputs": [
    {
     "name": "stdout",
     "output_type": "stream",
     "text": [
      "Probability of a person is a female given that she is a smoker is: 0.42\n"
     ]
    }
   ],
   "source": [
    "# P(F|S) = P(F intersection S) / P(S)\n",
    "\n",
    "n_female_smokers = df.loc[((df['smoker'] == 'yes') & (df['sex'] == 'female')) , 'smoker'].count()\n",
    "\n",
    "p_female_smokers = n_female_smokers / n_smokers\n",
    "\n",
    "print(f\"Probability of a person is a female given that she is a smoker is: {p_female_smokers:.2f}\")"
   ]
  },
  {
   "cell_type": "markdown",
   "id": "e51ffe60",
   "metadata": {},
   "source": [
    "### 3.2.4 What is the probability of an individual is a male given that he is a smoker?"
   ]
  },
  {
   "cell_type": "code",
   "execution_count": 128,
   "id": "8621f0e9",
   "metadata": {},
   "outputs": [
    {
     "name": "stdout",
     "output_type": "stream",
     "text": [
      "Probability of a person is a male given that he is a smoker is: 0.58\n"
     ]
    }
   ],
   "source": [
    "# P(M|S) = P(M intersection S) / P(S)\n",
    "n_male_smokers = df.loc[((df['smoker'] == 'yes') & (df['sex'] == 'male')) , 'smoker'].count()\n",
    "\n",
    "p_male_smokers = n_male_smokers / n_smokers\n",
    "\n",
    "print(f\"Probability of a person is a male given that he is a smoker is: {p_male_smokers:.2f}\")"
   ]
  },
  {
   "cell_type": "markdown",
   "id": "6df09ad5",
   "metadata": {},
   "source": [
    "### 3.2.5 Distribution of Charges by Region"
   ]
  },
  {
   "cell_type": "markdown",
   "id": "1856d6bb",
   "metadata": {},
   "source": [
    "#### Distribution of Charges in All Region - Box Plot"
   ]
  },
  {
   "cell_type": "code",
   "execution_count": 226,
   "id": "e540735c",
   "metadata": {},
   "outputs": [
    {
     "data": {
      "text/plain": [
       "[Text(0.5, 1.0, 'Distribution of Charges for Each Region'),\n",
       " Text(0.5, 0, 'US Region'),\n",
       " Text(0, 0.5, 'Charges [USD]')]"
      ]
     },
     "execution_count": 226,
     "metadata": {},
     "output_type": "execute_result"
    },
    {
     "data": {
      "image/png": "[encoded data removed]",
      "text/plain": [
       "<Figure size 432x288 with 1 Axes>"
      ]
     },
     "metadata": {
      "needs_background": "light"
     },
     "output_type": "display_data"
    }
   ],
   "source": [
    "df = data_csv \n",
    "\n",
    "df_filt = df.filter(items=['region', 'charges'])\n",
    "\n",
    "sns.boxplot(data=df_filt, x=\"region\", y=\"charges\").set(title=\"Distribution of Charges for Each Region\", xlabel=\"US Region\", ylabel=\"Charges [USD]\")"
   ]
  },
  {
   "cell_type": "code",
   "execution_count": 227,
   "id": "65fbf408",
   "metadata": {},
   "outputs": [
    {
     "data": {
      "text/html": [
       "<div>\n",
       "<style scoped>\n",
       "    .dataframe tbody tr th:only-of-type {\n",
       "        vertical-align: middle;\n",
       "    }\n",
       "\n",
       "    .dataframe tbody tr th {\n",
       "        vertical-align: top;\n",
       "    }\n",
       "\n",
       "    .dataframe thead th {\n",
       "        text-align: right;\n",
       "    }\n",
       "</style>\n",
       "<table border=\"1\" class=\"dataframe\">\n",
       "  <thead>\n",
       "    <tr style=\"text-align: right;\">\n",
       "      <th></th>\n",
       "      <th>count</th>\n",
       "      <th>mean</th>\n",
       "      <th>std</th>\n",
       "      <th>min</th>\n",
       "      <th>25%</th>\n",
       "      <th>50%</th>\n",
       "      <th>75%</th>\n",
       "      <th>max</th>\n",
       "    </tr>\n",
       "    <tr>\n",
       "      <th>region</th>\n",
       "      <th></th>\n",
       "      <th></th>\n",
       "      <th></th>\n",
       "      <th></th>\n",
       "      <th></th>\n",
       "      <th></th>\n",
       "      <th></th>\n",
       "      <th></th>\n",
       "    </tr>\n",
       "  </thead>\n",
       "  <tbody>\n",
       "    <tr>\n",
       "      <th>northeast</th>\n",
       "      <td>324.0</td>\n",
       "      <td>13406.384516</td>\n",
       "      <td>11255.803066</td>\n",
       "      <td>1694.7964</td>\n",
       "      <td>5194.322288</td>\n",
       "      <td>10057.652025</td>\n",
       "      <td>16687.3641</td>\n",
       "      <td>58571.07448</td>\n",
       "    </tr>\n",
       "    <tr>\n",
       "      <th>northwest</th>\n",
       "      <td>325.0</td>\n",
       "      <td>12417.575374</td>\n",
       "      <td>11072.276928</td>\n",
       "      <td>1621.3402</td>\n",
       "      <td>4719.736550</td>\n",
       "      <td>8965.795750</td>\n",
       "      <td>14711.7438</td>\n",
       "      <td>60021.39897</td>\n",
       "    </tr>\n",
       "    <tr>\n",
       "      <th>southeast</th>\n",
       "      <td>364.0</td>\n",
       "      <td>14735.411438</td>\n",
       "      <td>13971.098589</td>\n",
       "      <td>1121.8739</td>\n",
       "      <td>4440.886200</td>\n",
       "      <td>9294.131950</td>\n",
       "      <td>19526.2869</td>\n",
       "      <td>63770.42801</td>\n",
       "    </tr>\n",
       "    <tr>\n",
       "      <th>southwest</th>\n",
       "      <td>325.0</td>\n",
       "      <td>12346.937377</td>\n",
       "      <td>11557.179101</td>\n",
       "      <td>1241.5650</td>\n",
       "      <td>4751.070000</td>\n",
       "      <td>8798.593000</td>\n",
       "      <td>13462.5200</td>\n",
       "      <td>52590.82939</td>\n",
       "    </tr>\n",
       "  </tbody>\n",
       "</table>\n",
       "</div>"
      ],
      "text/plain": [
       "           count          mean           std        min          25%  \\\n",
       "region                                                                 \n",
       "northeast  324.0  13406.384516  11255.803066  1694.7964  5194.322288   \n",
       "northwest  325.0  12417.575374  11072.276928  1621.3402  4719.736550   \n",
       "southeast  364.0  14735.411438  13971.098589  1121.8739  4440.886200   \n",
       "southwest  325.0  12346.937377  11557.179101  1241.5650  4751.070000   \n",
       "\n",
       "                    50%         75%          max  \n",
       "region                                            \n",
       "northeast  10057.652025  16687.3641  58571.07448  \n",
       "northwest   8965.795750  14711.7438  60021.39897  \n",
       "southeast   9294.131950  19526.2869  63770.42801  \n",
       "southwest   8798.593000  13462.5200  52590.82939  "
      ]
     },
     "execution_count": 227,
     "metadata": {},
     "output_type": "execute_result"
    }
   ],
   "source": [
    "df_filt.groupby('region')['charges'].describe()"
   ]
  },
  {
   "cell_type": "markdown",
   "id": "24fc84eb",
   "metadata": {},
   "source": [
    "#### Distribution of Charges in By Region (Northwest) - Histogram "
   ]
  },
  {
   "cell_type": "code",
   "execution_count": 44,
   "id": "7890992b",
   "metadata": {},
   "outputs": [],
   "source": [
    "df = data_csv \n",
    "\n",
    "df_filt = df.filter(items=['region', 'charges'])\n",
    "\n",
    "df_northwest = df_filt[df_filt['region'] == 'northwest']"
   ]
  },
  {
   "cell_type": "code",
   "execution_count": 198,
   "id": "71cf244b",
   "metadata": {
    "scrolled": true
   },
   "outputs": [
    {
     "data": {
      "text/plain": [
       "<seaborn.axisgrid.FacetGrid at 0x7fd7f6108a00>"
      ]
     },
     "execution_count": 198,
     "metadata": {},
     "output_type": "execute_result"
    },
    {
     "data": {
      "image/png": "[encoded data removed]",
      "text/plain": [
       "<Figure size 360x360 with 1 Axes>"
      ]
     },
     "metadata": {
      "needs_background": "light"
     },
     "output_type": "display_data"
    }
   ],
   "source": [
    "p = sns.displot(df_northwest, x=\"charges\", bins=30)\n",
    "p.set(title='Charges distribution in Northwest Region', xlabel=\"Charges in USD\", ylabel=\"Count of Charges\")"
   ]
  },
  {
   "cell_type": "markdown",
   "id": "94cbdd04",
   "metadata": {},
   "source": [
    "#### Distribution of Charges in By Region (Northeast) - Histogram "
   ]
  },
  {
   "cell_type": "code",
   "execution_count": 203,
   "id": "7ebf0c0d",
   "metadata": {},
   "outputs": [],
   "source": [
    "df = data_csv \n",
    "\n",
    "df_filt = df.filter(items=['region', 'charges'])\n",
    "df_northeast = df_filt[df_filt['region'] == 'northeast']"
   ]
  },
  {
   "cell_type": "code",
   "execution_count": 205,
   "id": "bec21dee",
   "metadata": {
    "scrolled": false
   },
   "outputs": [
    {
     "data": {
      "text/plain": [
       "<seaborn.axisgrid.FacetGrid at 0x7fd7d6b620d0>"
      ]
     },
     "execution_count": 205,
     "metadata": {},
     "output_type": "execute_result"
    },
    {
     "data": {
      "image/png": "[encoded data removed]",
      "text/plain": [
       "<Figure size 360x360 with 1 Axes>"
      ]
     },
     "metadata": {
      "needs_background": "light"
     },
     "output_type": "display_data"
    }
   ],
   "source": [
    "p = sns.displot(df_northeast, x=\"charges\", bins=30)\n",
    "p.set(title='Charges distribution in Northeast Region', xlabel=\"Charges in USD\", ylabel=\"Count of Charges\")"
   ]
  },
  {
   "cell_type": "markdown",
   "id": "4410347d",
   "metadata": {},
   "source": [
    "#### Distribution of Charges in By Region (Southeast) - Histogram "
   ]
  },
  {
   "cell_type": "code",
   "execution_count": 206,
   "id": "23dd05fa",
   "metadata": {},
   "outputs": [],
   "source": [
    "df = data_csv \n",
    "\n",
    "df_filt = df.filter(items=['region', 'charges'])\n",
    "df_southeast = df_filt[df_filt['region'] == 'southeast']"
   ]
  },
  {
   "cell_type": "code",
   "execution_count": 207,
   "id": "5e294754",
   "metadata": {},
   "outputs": [
    {
     "data": {
      "text/plain": [
       "<seaborn.axisgrid.FacetGrid at 0x7fd7d6b4e3a0>"
      ]
     },
     "execution_count": 207,
     "metadata": {},
     "output_type": "execute_result"
    },
    {
     "data": {
      "image/png": "[encoded data removed]",
      "text/plain": [
       "<Figure size 360x360 with 1 Axes>"
      ]
     },
     "metadata": {
      "needs_background": "light"
     },
     "output_type": "display_data"
    }
   ],
   "source": [
    "p = sns.displot(df_southeast, x=\"charges\", bins=30)\n",
    "p.set(title='Charges distribution in Southeast Region', xlabel=\"Charges in USD\", ylabel=\"Count of Charges\")"
   ]
  },
  {
   "cell_type": "markdown",
   "id": "40cbf4dd",
   "metadata": {},
   "source": [
    "#### Distribution of Charges in By Region (Southwest) - Histogram "
   ]
  },
  {
   "cell_type": "code",
   "execution_count": 208,
   "id": "7e1e28fa",
   "metadata": {},
   "outputs": [],
   "source": [
    "df = data_csv \n",
    "\n",
    "df_filt = df.filter(items=['region', 'charges'])\n",
    "df_southwest = df_filt[df_filt['region'] == 'southwest']"
   ]
  },
  {
   "cell_type": "code",
   "execution_count": 209,
   "id": "927e8065",
   "metadata": {},
   "outputs": [
    {
     "data": {
      "text/plain": [
       "<seaborn.axisgrid.FacetGrid at 0x7fd7e5f44730>"
      ]
     },
     "execution_count": 209,
     "metadata": {},
     "output_type": "execute_result"
    },
    {
     "data": {
      "image/png": "[encoded data removed]",
      "text/plain": [
       "<Figure size 360x360 with 1 Axes>"
      ]
     },
     "metadata": {
      "needs_background": "light"
     },
     "output_type": "display_data"
    }
   ],
   "source": [
    "p = sns.displot(df_southwest, x=\"charges\", bins=30)\n",
    "p.set(title='Charges distribution in Southwest Region', xlabel=\"Charges in USD\", ylabel=\"Count of Charges\")"
   ]
  },
  {
   "cell_type": "markdown",
   "id": "45e24833",
   "metadata": {},
   "source": [
    "### 3.3 Continuous Variable Analysis"
   ]
  },
  {
   "cell_type": "markdown",
   "id": "618ba56d",
   "metadata": {},
   "source": [
    "#### 3.3.1 Distribution of BMI and Charges"
   ]
  },
  {
   "cell_type": "code",
   "execution_count": 130,
   "id": "a7513f91",
   "metadata": {},
   "outputs": [
    {
     "data": {
      "image/png": "[encoded data removed]",
      "text/plain": [
       "<Figure size 360x360 with 1 Axes>"
      ]
     },
     "metadata": {
      "needs_background": "light"
     },
     "output_type": "display_data"
    }
   ],
   "source": [
    "df = data_csv\n",
    "\n",
    "p = sns.displot(df, x=\"bmi\", kde=True).set(title=\"BMI Distribution\")"
   ]
  },
  {
   "cell_type": "code",
   "execution_count": 236,
   "id": "00f7bb74",
   "metadata": {},
   "outputs": [
    {
     "data": {
      "image/png": "[encoded data removed]",
      "text/plain": [
       "<Figure size 360x360 with 1 Axes>"
      ]
     },
     "metadata": {
      "needs_background": "light"
     },
     "output_type": "display_data"
    }
   ],
   "source": [
    "df = data_csv\n",
    "\n",
    "p = sns.displot(df, x=\"charges\", kde=True).set(title=\"Charges Distribution\")"
   ]
  },
  {
   "cell_type": "code",
   "execution_count": 237,
   "id": "0de36dc7",
   "metadata": {},
   "outputs": [
    {
     "data": {
      "text/plain": [
       "<seaborn.axisgrid.JointGrid at 0x7fd7c70d52b0>"
      ]
     },
     "execution_count": 237,
     "metadata": {},
     "output_type": "execute_result"
    },
    {
     "data": {
      "image/png": "[encoded data removed]",
      "text/plain": [
       "<Figure size 432x432 with 3 Axes>"
      ]
     },
     "metadata": {
      "needs_background": "light"
     },
     "output_type": "display_data"
    }
   ],
   "source": [
    "df = data_csv\n",
    "sns.jointplot(\n",
    "    data=df,\n",
    "    x=\"bmi\", y=\"charges\", kind=\"kde\", hue=\"smoker\")"
   ]
  },
  {
   "cell_type": "markdown",
   "id": "c5ced6d3",
   "metadata": {},
   "source": [
    "### 3.3.2 Which is more likely to occur? "
   ]
  },
  {
   "cell_type": "markdown",
   "id": "314d63f4",
   "metadata": {},
   "source": [
    "#### (a) An individual with BMI > 25 getting charges over 16.7k?  \n",
    "#### (b) An individual with BMI < 25 getting charges over 16.7k?"
   ]
  },
  {
   "cell_type": "code",
   "execution_count": 203,
   "id": "9f9799e4",
   "metadata": {},
   "outputs": [
    {
     "name": "stdout",
     "output_type": "stream",
     "text": [
      "Probability of a person with charges > 16.7k: 0.25\n",
      "Probability of a person with BMI > 25 and charges > USD16.7k: 0.26\n",
      "Probability of a person with BMI < 25 and charges > USD16.7k: 0.21\n"
     ]
    }
   ],
   "source": [
    "df = data_csv\n",
    "\n",
    "n = df['charges'].count()\n",
    "\n",
    "# Filtering data for individuals with charges > 16.7 \n",
    "n_chargesgt = df.loc[df['charges']>16700, 'charges'].count()\n",
    "\n",
    "# Filtering data for individuals with BMI > 25 \n",
    "n_bmigt25 = df.loc[df['bmi']>25, 'bmi'].count()\n",
    "\n",
    "# Filtering data for individuals with BMI < 25 \n",
    "n_bmilt25 = df.loc[df['bmi']<25, 'bmi'].count()\n",
    "\n",
    "# Filtering data for individuals with BMI > 25 and charges > 16700\n",
    "n_chargesgt_bmigt = df.loc[((df['charges'] > 16700) & (df['bmi']>25)) , 'bmi'].count()\n",
    "\n",
    "# Filtering data for individuals with BMI < 25 and charges < 16700\n",
    "n_chargeslt_bmilt = df.loc[((df['charges'] > 16700) & (df['bmi']<25)) , 'bmi'].count()\n",
    "\n",
    "# Probability of a person with charges > 16700 \n",
    "p_chargesgt = n_chargesgt / n\n",
    "\n",
    "# Conditional probability for an individual with BMI > 25 getting charges over 16.7k\n",
    "p_cgt16700_bmigt25 = n_chargesgt_bmigt / n_bmigt25\n",
    "\n",
    "# Conditional probability for an individual with BMI < 25 getting charges over 16.7k\n",
    "p_clt16700_bmilt25 = n_chargeslt_bmilt / n_bmilt25\n",
    "\n",
    "print(f\"Probability of a person with charges > 16.7k: {p_chargesgt:.2f}\")\n",
    "print(f\"Probability of a person with BMI > 25 and charges > USD16.7k: {p_cgt16700_bmigt25:.2f}\")\n",
    "print(f\"Probability of a person with BMI < 25 and charges > USD16.7k: {p_clt16700_bmilt25:.2f}\")"
   ]
  },
  {
   "cell_type": "markdown",
   "id": "e2956915",
   "metadata": {},
   "source": [
    "### 3.3.3 Which is more likely to occur? "
   ]
  },
  {
   "cell_type": "markdown",
   "id": "7faea7c1",
   "metadata": {},
   "source": [
    "#### (a) An individual who smokes with BMI > 25 getting charges over 16.7k?  \n",
    "#### (b) An individual who does not smoke with BMI > 25 getting charges over 16.7k?"
   ]
  },
  {
   "cell_type": "code",
   "execution_count": 205,
   "id": "8b351ef0",
   "metadata": {},
   "outputs": [
    {
     "name": "stdout",
     "output_type": "stream",
     "text": [
      "Probability of a person with charges > 16.7k: 0.25\n",
      "Probability of a person who smokes with BMI > 25 and charges > USD16.7k: 0.98\n",
      "Probability of a person who does not smoke with BMI > 25 and charges > USD16.7k: 0.08\n"
     ]
    }
   ],
   "source": [
    "df = data_csv\n",
    "\n",
    "n = df['charges'].count()\n",
    "\n",
    "# Filtering data for individuals with charges > 16.7 \n",
    "n_chargesgt = df.loc[df['charges']>16700, 'charges'].count()\n",
    "\n",
    "# Filtering data for individuals with BMI > 25 and is a smoker\n",
    "n_bmigt25_s = df.loc[((df['smoker'] == 'yes') & (df['bmi']>25)) , 'bmi'].count()\n",
    "\n",
    "# Filtering data for individuals with BMI > 25 and is not a smoker\n",
    "n_bmilt25_ns = df.loc[((df['smoker'] == 'no') & (df['bmi']>25)) , 'bmi'].count()\n",
    "\n",
    "# Filtering data for individuals who smokes with BMI > 25 and charges over 16700 \n",
    "n_chargesgt_bmigt_s = df.loc[((df['charges'] > 16700) & (df['bmi']>25) & (df['smoker']=='yes')) , 'bmi'].count()\n",
    "\n",
    "# Filtering data for individuals who do not smoke with BMI > 25 and charges over 16700 \n",
    "n_chargeslt_bmilt_ns = df.loc[((df['charges'] > 16700) & (df['bmi']>25) & (df['smoker']=='no')) , 'bmi'].count()\n",
    "\n",
    "# Probability of a person with charges > 16700 \n",
    "p_chargesgt = n_chargesgt / n\n",
    "\n",
    "# Conditional probability for an individual who smokes with BMI > 25 getting charges over 16.7k\n",
    "p_cgt16700_bmigt25_s = n_chargesgt_bmigt_s / n_bmigt25_s\n",
    "\n",
    "# Conditional probability for an individual who doesn't smoke with BMI > 25 getting charges over 16.7k\n",
    "p_clt16700_bmilt25_ns = n_chargeslt_bmilt_ns / n_bmilt25_ns\n",
    "\n",
    "print(f\"Probability of a person with charges > 16.7k: {p_chargesgt:.2f}\")\n",
    "print(f\"Probability of a person who smokes with BMI > 25 and charges > USD16.7k: {p_cgt16700_bmigt25_s:.2f}\")\n",
    "print(f\"Probability of a person who does not smoke with BMI > 25 and charges > USD16.7k: {p_clt16700_bmilt25_ns:.2f}\")"
   ]
  },
  {
   "cell_type": "markdown",
   "id": "be5e3dab",
   "metadata": {},
   "source": [
    "### 3.3.4 Which is more likely to occur? "
   ]
  },
  {
   "cell_type": "markdown",
   "id": "540e9b20",
   "metadata": {},
   "source": [
    "#### (a) An female individual with BMI > 25 getting charges over 16.7k?  \n",
    "#### (b) An male individual with BMI > 25 getting charges over 16.7k?"
   ]
  },
  {
   "cell_type": "code",
   "execution_count": 206,
   "id": "f6d5607d",
   "metadata": {},
   "outputs": [
    {
     "name": "stdout",
     "output_type": "stream",
     "text": [
      "Probability of a person with charges > 16.7k: 0.25\n",
      "Probability of a female with BMI > 25 and charges > USD16.7k: 0.22\n",
      "Probability of a male with BMI > 25 and charges > USD16.7k: 0.29\n"
     ]
    }
   ],
   "source": [
    "df = data_csv\n",
    "\n",
    "n = df['charges'].count()\n",
    "\n",
    "# Filtering data for individuals with charges > 16.7 \n",
    "n_chargesgt = df.loc[df['charges']>16700, 'charges'].count()\n",
    "\n",
    "# Filtering data for individuals with BMI > 25 and is a female\n",
    "n_bmigt25_f = df.loc[((df['sex'] == 'female') & (df['bmi']>25)) , 'bmi'].count()\n",
    "\n",
    "# Filtering data for individuals with BMI > 25 and is not a male\n",
    "n_bmigt25_m = df.loc[((df['sex'] == 'male') & (df['bmi']>25)) , 'bmi'].count()\n",
    "\n",
    "# Filtering data for male individuals with BMI > 25 and charges > 16700\n",
    "n_chargesgt_male = df.loc[((df['sex'] == 'male') & (df['bmi']>25)) & (df['charges']>16700), 'bmi'].count()\n",
    "\n",
    "# Filtering data for female individuals with BMI > 25 and charges < 16700\n",
    "n_chargesgt_female = df.loc[((df['sex'] == 'female') & (df['bmi']>25) & (df['charges']>16700)) , 'bmi'].count()\n",
    "\n",
    "\n",
    "# Probability of a person with charges > 16700 \n",
    "p_chargesgt = n_chargesgt / n\n",
    "\n",
    "\n",
    "# Conditional probability for a male individual with BMI > 25 getting charges over 16.7k\n",
    "p_cgt16700_male = n_chargesgt_male / n_bmigt25_m\n",
    "\n",
    "# Conditional probability for a female individual with BMI > 25 getting charges over 16.7k\n",
    "p_clt16700_female = n_chargesgt_female / n_bmigt25_f\n",
    "\n",
    "print(f\"Probability of a person with charges > 16.7k: {p_chargesgt:.2f}\")\n",
    "print(f\"Probability of a female with BMI > 25 and charges > USD16.7k: {p_clt16700_female:.2f}\")\n",
    "print(f\"Probability of a male with BMI > 25 and charges > USD16.7k: {p_cgt16700_male:.2f}\")"
   ]
  },
  {
   "cell_type": "markdown",
   "id": "a84c7559",
   "metadata": {},
   "source": [
    "### 3.3.5 Which is more likely to occur? "
   ]
  },
  {
   "cell_type": "markdown",
   "id": "76eb90cb",
   "metadata": {},
   "source": [
    "#### (a) An female individual who smokes with BMI > 25 getting charges over 16.7k?  \n",
    "#### (b) An male individual who smokes with BMI > 25 getting charges over 16.7k?"
   ]
  },
  {
   "cell_type": "code",
   "execution_count": 231,
   "id": "375db56a",
   "metadata": {},
   "outputs": [
    {
     "name": "stdout",
     "output_type": "stream",
     "text": [
      "Probability of a person with charges > 16.7k: 0.25\n",
      "Probability of a female smoker with BMI > 25 and charges > USD16.7k: 1.00\n",
      "Probability of a male smoker with BMI > 25 and charges > USD16.7k: 0.97\n"
     ]
    }
   ],
   "source": [
    "df = data_csv\n",
    "\n",
    "n = df['charges'].count()\n",
    "\n",
    "# Filtering data for individuals with charges > 16.7 \n",
    "n_chargesgt = df.loc[df['charges']>16700, 'charges'].count()\n",
    "\n",
    "# Filtering data for female smoker with BMI > 25 \n",
    "n_bmigt25_fs = df.loc[((df['sex'] == 'female') & (df['bmi']>25) & (df['smoker']=='yes')) , 'bmi'].count()\n",
    "\n",
    "# Filtering data for male smoker with BMI > 25 \n",
    "n_bmigt25_ms = df.loc[((df['sex'] == 'male') & (df['bmi']>25) & (df['smoker']=='yes')) , 'bmi'].count()\n",
    "\n",
    "# Filtering data for male smoker with BMI > 25 and charges > 16700\n",
    "n_chargesgt_male = df.loc[((df['sex'] == 'male') & (df['bmi']>25) & (df['charges']>16700) & (df['smoker']=='yes')), 'bmi'].count()\n",
    "\n",
    "# Filtering data for female smoker with BMI > 25 and charges < 16700\n",
    "n_chargesgt_female = df.loc[((df['sex'] == 'female') & (df['bmi']>25) & (df['charges']>16700) & (df['smoker']=='yes')) , 'bmi'].count()\n",
    "\n",
    "# Probability of a person with charges > 16700 \n",
    "p_chargesgt = n_chargesgt / n\n",
    "\n",
    "# Conditional probability for a male individual with BMI > 25 getting charges over 16.7k\n",
    "p_cgt16700_male = n_chargesgt_male / n_bmigt25_ms\n",
    "\n",
    "# Conditional probability for a female individual with BMI > 25 getting charges over 16.7k\n",
    "p_clt16700_female = n_chargesgt_female / n_bmigt25_fs\n",
    "\n",
    "print(f\"Probability of a person with charges > 16.7k: {p_chargesgt:.2f}\")\n",
    "print(f\"Probability of a female smoker with BMI > 25 and charges > USD16.7k: {p_clt16700_female:.2f}\")\n",
    "print(f\"Probability of a male smoker with BMI > 25 and charges > USD16.7k: {p_cgt16700_male:.2f}\")"
   ]
  },
  {
   "cell_type": "markdown",
   "id": "f43adc4f",
   "metadata": {},
   "source": [
    "### 3.4 Correlation between Variable"
   ]
  },
  {
   "cell_type": "markdown",
   "id": "5f75367e",
   "metadata": {},
   "source": [
    "#### 3.4.1 Correlation Between BMI, Age, Children and Charges"
   ]
  },
  {
   "cell_type": "code",
   "execution_count": 163,
   "id": "88fab6ed",
   "metadata": {},
   "outputs": [
    {
     "data": {
      "text/html": [
       "<div>\n",
       "<style scoped>\n",
       "    .dataframe tbody tr th:only-of-type {\n",
       "        vertical-align: middle;\n",
       "    }\n",
       "\n",
       "    .dataframe tbody tr th {\n",
       "        vertical-align: top;\n",
       "    }\n",
       "\n",
       "    .dataframe thead th {\n",
       "        text-align: right;\n",
       "    }\n",
       "</style>\n",
       "<table border=\"1\" class=\"dataframe\">\n",
       "  <thead>\n",
       "    <tr style=\"text-align: right;\">\n",
       "      <th></th>\n",
       "      <th>age</th>\n",
       "      <th>bmi</th>\n",
       "      <th>children</th>\n",
       "      <th>charges</th>\n",
       "    </tr>\n",
       "  </thead>\n",
       "  <tbody>\n",
       "    <tr>\n",
       "      <th>age</th>\n",
       "      <td>1.000000</td>\n",
       "      <td>0.109272</td>\n",
       "      <td>0.042469</td>\n",
       "      <td>0.299008</td>\n",
       "    </tr>\n",
       "    <tr>\n",
       "      <th>bmi</th>\n",
       "      <td>0.109272</td>\n",
       "      <td>1.000000</td>\n",
       "      <td>0.012759</td>\n",
       "      <td>0.198341</td>\n",
       "    </tr>\n",
       "    <tr>\n",
       "      <th>children</th>\n",
       "      <td>0.042469</td>\n",
       "      <td>0.012759</td>\n",
       "      <td>1.000000</td>\n",
       "      <td>0.067998</td>\n",
       "    </tr>\n",
       "    <tr>\n",
       "      <th>charges</th>\n",
       "      <td>0.299008</td>\n",
       "      <td>0.198341</td>\n",
       "      <td>0.067998</td>\n",
       "      <td>1.000000</td>\n",
       "    </tr>\n",
       "  </tbody>\n",
       "</table>\n",
       "</div>"
      ],
      "text/plain": [
       "               age       bmi  children   charges\n",
       "age       1.000000  0.109272  0.042469  0.299008\n",
       "bmi       0.109272  1.000000  0.012759  0.198341\n",
       "children  0.042469  0.012759  1.000000  0.067998\n",
       "charges   0.299008  0.198341  0.067998  1.000000"
      ]
     },
     "execution_count": 163,
     "metadata": {},
     "output_type": "execute_result"
    }
   ],
   "source": [
    "df = data_csv\n",
    "df.corr(method ='pearson')\n"
   ]
  },
  {
   "cell_type": "code",
   "execution_count": 164,
   "id": "a4069f13",
   "metadata": {},
   "outputs": [
    {
     "data": {
      "image/png": "[encoded data removed]",
      "text/plain": [
       "<Figure size 432x288 with 2 Axes>"
      ]
     },
     "metadata": {
      "needs_background": "light"
     },
     "output_type": "display_data"
    }
   ],
   "source": [
    "df = data_csv\n",
    "df.corr(method ='pearson')\n",
    "\n",
    "# plotting correlation heatmap\n",
    "p = sns.heatmap(df.corr(), cmap=\"YlGnBu\", annot=True)"
   ]
  },
  {
   "cell_type": "markdown",
   "id": "d4729cb7",
   "metadata": {},
   "source": [
    "#### 3.4.2 Correlation Between Smoking Status and Charges"
   ]
  },
  {
   "cell_type": "code",
   "execution_count": 195,
   "id": "28ec4719",
   "metadata": {},
   "outputs": [
    {
     "data": {
      "text/plain": [
       "[Text(0.5, 1.0, 'Charges by Smoking Status'),\n",
       " Text(0.5, 0, 'BMI'),\n",
       " Text(0, 0.5, 'Charges')]"
      ]
     },
     "execution_count": 195,
     "metadata": {},
     "output_type": "execute_result"
    },
    {
     "data": {
      "image/png": "[encoded data removed]",
      "text/plain": [
       "<Figure size 432x288 with 1 Axes>"
      ]
     },
     "metadata": {
      "needs_background": "light"
     },
     "output_type": "display_data"
    }
   ],
   "source": [
    "df = data_csv\n",
    "df_filt = df.filter(items=['bmi', 'charges', 'smoker'])\n",
    "p = sns.scatterplot(data=df_filt, x=\"bmi\", y=\"charges\", hue=\"smoker\")\n",
    "\n",
    "p.set(title=\"Charges by Smoking Status\", xlabel=\"BMI\", ylabel=\"Charges\")"
   ]
  },
  {
   "cell_type": "code",
   "execution_count": 196,
   "id": "b78fc172",
   "metadata": {},
   "outputs": [
    {
     "data": {
      "text/html": [
       "<div>\n",
       "<style scoped>\n",
       "    .dataframe tbody tr th:only-of-type {\n",
       "        vertical-align: middle;\n",
       "    }\n",
       "\n",
       "    .dataframe tbody tr th {\n",
       "        vertical-align: top;\n",
       "    }\n",
       "\n",
       "    .dataframe thead th {\n",
       "        text-align: right;\n",
       "    }\n",
       "</style>\n",
       "<table border=\"1\" class=\"dataframe\">\n",
       "  <thead>\n",
       "    <tr style=\"text-align: right;\">\n",
       "      <th></th>\n",
       "      <th>bmi</th>\n",
       "      <th>charges</th>\n",
       "    </tr>\n",
       "  </thead>\n",
       "  <tbody>\n",
       "    <tr>\n",
       "      <th>bmi</th>\n",
       "      <td>1.000000</td>\n",
       "      <td>0.198341</td>\n",
       "    </tr>\n",
       "    <tr>\n",
       "      <th>charges</th>\n",
       "      <td>0.198341</td>\n",
       "      <td>1.000000</td>\n",
       "    </tr>\n",
       "  </tbody>\n",
       "</table>\n",
       "</div>"
      ],
      "text/plain": [
       "              bmi   charges\n",
       "bmi      1.000000  0.198341\n",
       "charges  0.198341  1.000000"
      ]
     },
     "execution_count": 196,
     "metadata": {},
     "output_type": "execute_result"
    }
   ],
   "source": [
    "df_filt.corr(method=\"pearson\")"
   ]
  },
  {
   "cell_type": "markdown",
   "id": "f2c58177",
   "metadata": {},
   "source": [
    "#### 3.4.2.1 Correlation Between Smokers and Charges "
   ]
  },
  {
   "cell_type": "code",
   "execution_count": 191,
   "id": "8037a5f6",
   "metadata": {},
   "outputs": [
    {
     "data": {
      "text/plain": [
       "Text(0.5, 1.0, 'Smoker vs Charges')"
      ]
     },
     "execution_count": 191,
     "metadata": {},
     "output_type": "execute_result"
    },
    {
     "data": {
      "image/png": "[encoded data removed]",
      "text/plain": [
       "<Figure size 432x288 with 1 Axes>"
      ]
     },
     "metadata": {
      "needs_background": "light"
     },
     "output_type": "display_data"
    }
   ],
   "source": [
    "df = data_csv \n",
    "\n",
    "df_filt = df.filter(items=['bmi', 'charges', 'smoker'])\n",
    "\n",
    "df_smoker = df_filt[df_filt['smoker'] == 'yes']\n",
    "\n",
    "plt.scatter(df_smoker['bmi'], df_smoker['charges'])\n",
    "plt.xlabel('Smoker')\n",
    "plt.ylabel('Charges')\n",
    "plt.title('Smoker vs Charges')"
   ]
  },
  {
   "cell_type": "code",
   "execution_count": 199,
   "id": "27cf5a4d",
   "metadata": {},
   "outputs": [
    {
     "data": {
      "text/html": [
       "<div>\n",
       "<style scoped>\n",
       "    .dataframe tbody tr th:only-of-type {\n",
       "        vertical-align: middle;\n",
       "    }\n",
       "\n",
       "    .dataframe tbody tr th {\n",
       "        vertical-align: top;\n",
       "    }\n",
       "\n",
       "    .dataframe thead th {\n",
       "        text-align: right;\n",
       "    }\n",
       "</style>\n",
       "<table border=\"1\" class=\"dataframe\">\n",
       "  <thead>\n",
       "    <tr style=\"text-align: right;\">\n",
       "      <th></th>\n",
       "      <th>bmi</th>\n",
       "      <th>charges</th>\n",
       "    </tr>\n",
       "  </thead>\n",
       "  <tbody>\n",
       "    <tr>\n",
       "      <th>bmi</th>\n",
       "      <td>1.000000</td>\n",
       "      <td>0.806481</td>\n",
       "    </tr>\n",
       "    <tr>\n",
       "      <th>charges</th>\n",
       "      <td>0.806481</td>\n",
       "      <td>1.000000</td>\n",
       "    </tr>\n",
       "  </tbody>\n",
       "</table>\n",
       "</div>"
      ],
      "text/plain": [
       "              bmi   charges\n",
       "bmi      1.000000  0.806481\n",
       "charges  0.806481  1.000000"
      ]
     },
     "execution_count": 199,
     "metadata": {},
     "output_type": "execute_result"
    }
   ],
   "source": [
    "df_smoker.corr()"
   ]
  },
  {
   "cell_type": "markdown",
   "id": "8663f9f0",
   "metadata": {},
   "source": [
    "#### 3.4.2.2 Correlation Between Non-smokers and Charges "
   ]
  },
  {
   "cell_type": "code",
   "execution_count": 192,
   "id": "86703078",
   "metadata": {},
   "outputs": [
    {
     "data": {
      "text/plain": [
       "Text(0.5, 1.0, 'Non Smoker vs Charges')"
      ]
     },
     "execution_count": 192,
     "metadata": {},
     "output_type": "execute_result"
    },
    {
     "data": {
      "image/png": "[encoded data removed]",
      "text/plain": [
       "<Figure size 432x288 with 1 Axes>"
      ]
     },
     "metadata": {
      "needs_background": "light"
     },
     "output_type": "display_data"
    }
   ],
   "source": [
    "df = data_csv \n",
    "\n",
    "df_filt = df.filter(items=['bmi', 'charges', 'smoker'])\n",
    "\n",
    "df_nonsmoker = df_filt[df_filt['smoker'] == 'no']\n",
    "\n",
    "plt.scatter(df_nonsmoker['bmi'], df_nonsmoker['charges'])\n",
    "plt.xlabel('Non Smoker')\n",
    "plt.ylabel('Charges')\n",
    "plt.title('Non Smoker vs Charges')"
   ]
  },
  {
   "cell_type": "code",
   "execution_count": 198,
   "id": "51b36dab",
   "metadata": {},
   "outputs": [
    {
     "data": {
      "text/html": [
       "<div>\n",
       "<style scoped>\n",
       "    .dataframe tbody tr th:only-of-type {\n",
       "        vertical-align: middle;\n",
       "    }\n",
       "\n",
       "    .dataframe tbody tr th {\n",
       "        vertical-align: top;\n",
       "    }\n",
       "\n",
       "    .dataframe thead th {\n",
       "        text-align: right;\n",
       "    }\n",
       "</style>\n",
       "<table border=\"1\" class=\"dataframe\">\n",
       "  <thead>\n",
       "    <tr style=\"text-align: right;\">\n",
       "      <th></th>\n",
       "      <th>bmi</th>\n",
       "      <th>charges</th>\n",
       "    </tr>\n",
       "  </thead>\n",
       "  <tbody>\n",
       "    <tr>\n",
       "      <th>bmi</th>\n",
       "      <td>1.000000</td>\n",
       "      <td>0.084037</td>\n",
       "    </tr>\n",
       "    <tr>\n",
       "      <th>charges</th>\n",
       "      <td>0.084037</td>\n",
       "      <td>1.000000</td>\n",
       "    </tr>\n",
       "  </tbody>\n",
       "</table>\n",
       "</div>"
      ],
      "text/plain": [
       "              bmi   charges\n",
       "bmi      1.000000  0.084037\n",
       "charges  0.084037  1.000000"
      ]
     },
     "execution_count": 198,
     "metadata": {},
     "output_type": "execute_result"
    }
   ],
   "source": [
    "df_nonsmoker.corr()"
   ]
  },
  {
   "cell_type": "markdown",
   "id": "335249d1",
   "metadata": {},
   "source": [
    "#### 3.4.3 Correlation Between Charges and Sex"
   ]
  },
  {
   "cell_type": "code",
   "execution_count": 201,
   "id": "47c2bc12",
   "metadata": {},
   "outputs": [
    {
     "data": {
      "text/plain": [
       "[Text(0.5, 1.0, 'Charges by Sex Status'),\n",
       " Text(0.5, 0, 'BMI'),\n",
       " Text(0, 0.5, 'Charges')]"
      ]
     },
     "execution_count": 201,
     "metadata": {},
     "output_type": "execute_result"
    },
    {
     "data": {
      "image/png": "[encoded data removed]",
      "text/plain": [
       "<Figure size 432x288 with 1 Axes>"
      ]
     },
     "metadata": {
      "needs_background": "light"
     },
     "output_type": "display_data"
    }
   ],
   "source": [
    "df = data_csv\n",
    "df_filt = df.filter(items=['bmi', 'charges', 'sex'])\n",
    "p = sns.scatterplot(data=df_filt, x=\"bmi\", y=\"charges\", hue=\"sex\")\n",
    "\n",
    "p.set(title=\"Charges by Sex Status\", xlabel=\"BMI\", ylabel=\"Charges\")"
   ]
  },
  {
   "cell_type": "code",
   "execution_count": 200,
   "id": "23492172",
   "metadata": {},
   "outputs": [
    {
     "data": {
      "text/html": [
       "<div>\n",
       "<style scoped>\n",
       "    .dataframe tbody tr th:only-of-type {\n",
       "        vertical-align: middle;\n",
       "    }\n",
       "\n",
       "    .dataframe tbody tr th {\n",
       "        vertical-align: top;\n",
       "    }\n",
       "\n",
       "    .dataframe thead th {\n",
       "        text-align: right;\n",
       "    }\n",
       "</style>\n",
       "<table border=\"1\" class=\"dataframe\">\n",
       "  <thead>\n",
       "    <tr style=\"text-align: right;\">\n",
       "      <th></th>\n",
       "      <th>bmi</th>\n",
       "      <th>charges</th>\n",
       "    </tr>\n",
       "  </thead>\n",
       "  <tbody>\n",
       "    <tr>\n",
       "      <th>bmi</th>\n",
       "      <td>1.000000</td>\n",
       "      <td>0.198341</td>\n",
       "    </tr>\n",
       "    <tr>\n",
       "      <th>charges</th>\n",
       "      <td>0.198341</td>\n",
       "      <td>1.000000</td>\n",
       "    </tr>\n",
       "  </tbody>\n",
       "</table>\n",
       "</div>"
      ],
      "text/plain": [
       "              bmi   charges\n",
       "bmi      1.000000  0.198341\n",
       "charges  0.198341  1.000000"
      ]
     },
     "execution_count": 200,
     "metadata": {},
     "output_type": "execute_result"
    }
   ],
   "source": [
    "df_filt.corr()"
   ]
  },
  {
   "cell_type": "markdown",
   "id": "5dcd4a3d",
   "metadata": {},
   "source": [
    "#### 3.4.3.1 Correlation Between Charges and Male "
   ]
  },
  {
   "cell_type": "code",
   "execution_count": 168,
   "id": "7b0902df",
   "metadata": {},
   "outputs": [
    {
     "data": {
      "text/plain": [
       "Text(0.5, 1.0, 'Male BMI vs Charges')"
      ]
     },
     "execution_count": 168,
     "metadata": {},
     "output_type": "execute_result"
    },
    {
     "data": {
      "image/png": "[encoded data removed]",
      "text/plain": [
       "<Figure size 432x288 with 1 Axes>"
      ]
     },
     "metadata": {
      "needs_background": "light"
     },
     "output_type": "display_data"
    }
   ],
   "source": [
    "# Correlation between Gender with Charges \n",
    "df = data_csv \n",
    "\n",
    "df_filt = df.filter(items=['bmi', 'charges', 'sex'])\n",
    "\n",
    "df_smoker = df_filt[df_filt['sex'] == 'male']\n",
    "\n",
    "plt.scatter(df_smoker['bmi'], df_smoker['charges'])\n",
    "plt.xlabel('Male BMI')\n",
    "plt.ylabel('Charges')\n",
    "plt.title('Male BMI vs Charges')"
   ]
  },
  {
   "cell_type": "code",
   "execution_count": 170,
   "id": "89a76049",
   "metadata": {},
   "outputs": [
    {
     "data": {
      "text/html": [
       "<div>\n",
       "<style scoped>\n",
       "    .dataframe tbody tr th:only-of-type {\n",
       "        vertical-align: middle;\n",
       "    }\n",
       "\n",
       "    .dataframe tbody tr th {\n",
       "        vertical-align: top;\n",
       "    }\n",
       "\n",
       "    .dataframe thead th {\n",
       "        text-align: right;\n",
       "    }\n",
       "</style>\n",
       "<table border=\"1\" class=\"dataframe\">\n",
       "  <thead>\n",
       "    <tr style=\"text-align: right;\">\n",
       "      <th></th>\n",
       "      <th>bmi</th>\n",
       "      <th>charges</th>\n",
       "    </tr>\n",
       "  </thead>\n",
       "  <tbody>\n",
       "    <tr>\n",
       "      <th>bmi</th>\n",
       "      <td>1.000000</td>\n",
       "      <td>0.225847</td>\n",
       "    </tr>\n",
       "    <tr>\n",
       "      <th>charges</th>\n",
       "      <td>0.225847</td>\n",
       "      <td>1.000000</td>\n",
       "    </tr>\n",
       "  </tbody>\n",
       "</table>\n",
       "</div>"
      ],
      "text/plain": [
       "              bmi   charges\n",
       "bmi      1.000000  0.225847\n",
       "charges  0.225847  1.000000"
      ]
     },
     "execution_count": 170,
     "metadata": {},
     "output_type": "execute_result"
    }
   ],
   "source": [
    "df_smoker[['bmi', 'charges']].corr(method ='pearson')"
   ]
  },
  {
   "cell_type": "markdown",
   "id": "d4de9b48",
   "metadata": {},
   "source": [
    "#### 3.4.3.1 Correlation Between Charges and Male "
   ]
  },
  {
   "cell_type": "code",
   "execution_count": 233,
   "id": "fae87147",
   "metadata": {},
   "outputs": [
    {
     "data": {
      "text/plain": [
       "Text(0.5, 1.0, 'Female BMI vs Charges')"
      ]
     },
     "execution_count": 233,
     "metadata": {},
     "output_type": "execute_result"
    },
    {
     "data": {
      "image/png": "[encoded data removed]",
      "text/plain": [
       "<Figure size 432x288 with 1 Axes>"
      ]
     },
     "metadata": {
      "needs_background": "light"
     },
     "output_type": "display_data"
    }
   ],
   "source": [
    "# Correlation between Gender with Charges \n",
    "df = data_csv \n",
    "\n",
    "df_filt = df.filter(items=['bmi', 'charges', 'sex'])\n",
    "\n",
    "df_smoker = df_filt[df_filt['sex'] == 'female']\n",
    "\n",
    "plt.scatter(df_smoker['bmi'], df_smoker['charges'])\n",
    "plt.xlabel('Female BMI')\n",
    "plt.ylabel('Charges')\n",
    "plt.title('Female BMI vs Charges')"
   ]
  },
  {
   "cell_type": "code",
   "execution_count": 234,
   "id": "09247bb1",
   "metadata": {},
   "outputs": [
    {
     "data": {
      "text/html": [
       "<div>\n",
       "<style scoped>\n",
       "    .dataframe tbody tr th:only-of-type {\n",
       "        vertical-align: middle;\n",
       "    }\n",
       "\n",
       "    .dataframe tbody tr th {\n",
       "        vertical-align: top;\n",
       "    }\n",
       "\n",
       "    .dataframe thead th {\n",
       "        text-align: right;\n",
       "    }\n",
       "</style>\n",
       "<table border=\"1\" class=\"dataframe\">\n",
       "  <thead>\n",
       "    <tr style=\"text-align: right;\">\n",
       "      <th></th>\n",
       "      <th>bmi</th>\n",
       "      <th>charges</th>\n",
       "    </tr>\n",
       "  </thead>\n",
       "  <tbody>\n",
       "    <tr>\n",
       "      <th>bmi</th>\n",
       "      <td>1.000000</td>\n",
       "      <td>0.161419</td>\n",
       "    </tr>\n",
       "    <tr>\n",
       "      <th>charges</th>\n",
       "      <td>0.161419</td>\n",
       "      <td>1.000000</td>\n",
       "    </tr>\n",
       "  </tbody>\n",
       "</table>\n",
       "</div>"
      ],
      "text/plain": [
       "              bmi   charges\n",
       "bmi      1.000000  0.161419\n",
       "charges  0.161419  1.000000"
      ]
     },
     "execution_count": 234,
     "metadata": {},
     "output_type": "execute_result"
    }
   ],
   "source": [
    "df_smoker[['bmi', 'charges']].corr(method ='pearson')"
   ]
  },
  {
   "cell_type": "markdown",
   "id": "fd3d801f",
   "metadata": {},
   "source": [
    "#### 3.4.3.3 Correlation Between Charges and Male Smokers"
   ]
  },
  {
   "cell_type": "code",
   "execution_count": 279,
   "id": "a70100a3",
   "metadata": {},
   "outputs": [
    {
     "data": {
      "text/plain": [
       "Text(0.5, 1.0, 'Male Smoker vs Charges')"
      ]
     },
     "execution_count": 279,
     "metadata": {},
     "output_type": "execute_result"
    },
    {
     "data": {
      "image/png": "[encoded data removed]",
      "text/plain": [
       "<Figure size 432x288 with 1 Axes>"
      ]
     },
     "metadata": {
      "needs_background": "light"
     },
     "output_type": "display_data"
    }
   ],
   "source": [
    "# Gender who smokes \n",
    "\n",
    "# Correlation between Gender with Charges \n",
    "df = data_csv \n",
    "\n",
    "df_filt = df.filter(items=['bmi', 'charges', 'sex', 'smoker'])\n",
    "\n",
    "df_malesmoker = df_filt[(df_filt['smoker'] == 'yes') & (df_filt['sex'] == 'male')]\n",
    "\n",
    "plt.scatter(df_malesmoker['bmi'], df_malesmoker['charges'])\n",
    "plt.xlabel('Male Smoker BMI')\n",
    "plt.ylabel('Charges')\n",
    "plt.title('Male Smoker vs Charges')"
   ]
  },
  {
   "cell_type": "code",
   "execution_count": 280,
   "id": "031481f7",
   "metadata": {},
   "outputs": [
    {
     "data": {
      "text/plain": [
       "array([[3.54266376e+01, 5.12995461e+04],\n",
       "       [5.12995461e+04, 1.25499834e+08]])"
      ]
     },
     "execution_count": 280,
     "metadata": {},
     "output_type": "execute_result"
    }
   ],
   "source": [
    "np.cov(df_malesmoker['bmi'], df_malesmoker['charges'])"
   ]
  },
  {
   "cell_type": "code",
   "execution_count": 281,
   "id": "8fc37d4c",
   "metadata": {},
   "outputs": [
    {
     "data": {
      "text/html": [
       "<div>\n",
       "<style scoped>\n",
       "    .dataframe tbody tr th:only-of-type {\n",
       "        vertical-align: middle;\n",
       "    }\n",
       "\n",
       "    .dataframe tbody tr th {\n",
       "        vertical-align: top;\n",
       "    }\n",
       "\n",
       "    .dataframe thead th {\n",
       "        text-align: right;\n",
       "    }\n",
       "</style>\n",
       "<table border=\"1\" class=\"dataframe\">\n",
       "  <thead>\n",
       "    <tr style=\"text-align: right;\">\n",
       "      <th></th>\n",
       "      <th>bmi</th>\n",
       "      <th>charges</th>\n",
       "    </tr>\n",
       "  </thead>\n",
       "  <tbody>\n",
       "    <tr>\n",
       "      <th>bmi</th>\n",
       "      <td>1.000000</td>\n",
       "      <td>0.769355</td>\n",
       "    </tr>\n",
       "    <tr>\n",
       "      <th>charges</th>\n",
       "      <td>0.769355</td>\n",
       "      <td>1.000000</td>\n",
       "    </tr>\n",
       "  </tbody>\n",
       "</table>\n",
       "</div>"
      ],
      "text/plain": [
       "              bmi   charges\n",
       "bmi      1.000000  0.769355\n",
       "charges  0.769355  1.000000"
      ]
     },
     "execution_count": 281,
     "metadata": {},
     "output_type": "execute_result"
    }
   ],
   "source": [
    "df_malesmoker[['bmi', 'charges']].corr(method ='pearson')"
   ]
  },
  {
   "cell_type": "markdown",
   "id": "baa301d7",
   "metadata": {},
   "source": [
    "#### 3.4.3.4 Correlation Between Charges and Female Smokers"
   ]
  },
  {
   "cell_type": "code",
   "execution_count": 173,
   "id": "884db8d3",
   "metadata": {},
   "outputs": [
    {
     "data": {
      "text/plain": [
       "Text(0.5, 1.0, 'Female Smoker vs Charges')"
      ]
     },
     "execution_count": 173,
     "metadata": {},
     "output_type": "execute_result"
    },
    {
     "data": {
      "image/png": "[encoded data removed]",
      "text/plain": [
       "<Figure size 432x288 with 1 Axes>"
      ]
     },
     "metadata": {
      "needs_background": "light"
     },
     "output_type": "display_data"
    }
   ],
   "source": [
    "df = data_csv \n",
    "\n",
    "df_filt = df.filter(items=['bmi', 'charges', 'sex', 'smoker'])\n",
    "\n",
    "df_femalesmoker = df_filt[(df_filt['smoker'] == 'yes') & (df_filt['sex'] == 'female')]\n",
    "\n",
    "plt.scatter(df_femalesmoker['bmi'], df_femalesmoker['charges'])\n",
    "plt.xlabel('Female Smoker BMI')\n",
    "plt.ylabel('Charges')\n",
    "plt.title('Female Smoker vs Charges')"
   ]
  },
  {
   "cell_type": "code",
   "execution_count": 174,
   "id": "86e109ec",
   "metadata": {},
   "outputs": [
    {
     "data": {
      "text/plain": [
       "array([[4.44062513e+01, 6.71224880e+04],\n",
       "       [6.71224880e+04, 1.41789423e+08]])"
      ]
     },
     "execution_count": 174,
     "metadata": {},
     "output_type": "execute_result"
    }
   ],
   "source": [
    "np.cov(df_femalesmoker['bmi'], df_femalesmoker['charges'])"
   ]
  },
  {
   "cell_type": "code",
   "execution_count": 175,
   "id": "8d70837a",
   "metadata": {},
   "outputs": [
    {
     "data": {
      "text/html": [
       "<div>\n",
       "<style scoped>\n",
       "    .dataframe tbody tr th:only-of-type {\n",
       "        vertical-align: middle;\n",
       "    }\n",
       "\n",
       "    .dataframe tbody tr th {\n",
       "        vertical-align: top;\n",
       "    }\n",
       "\n",
       "    .dataframe thead th {\n",
       "        text-align: right;\n",
       "    }\n",
       "</style>\n",
       "<table border=\"1\" class=\"dataframe\">\n",
       "  <thead>\n",
       "    <tr style=\"text-align: right;\">\n",
       "      <th></th>\n",
       "      <th>bmi</th>\n",
       "      <th>charges</th>\n",
       "    </tr>\n",
       "  </thead>\n",
       "  <tbody>\n",
       "    <tr>\n",
       "      <th>bmi</th>\n",
       "      <td>1.00000</td>\n",
       "      <td>0.84591</td>\n",
       "    </tr>\n",
       "    <tr>\n",
       "      <th>charges</th>\n",
       "      <td>0.84591</td>\n",
       "      <td>1.00000</td>\n",
       "    </tr>\n",
       "  </tbody>\n",
       "</table>\n",
       "</div>"
      ],
      "text/plain": [
       "             bmi  charges\n",
       "bmi      1.00000  0.84591\n",
       "charges  0.84591  1.00000"
      ]
     },
     "execution_count": 175,
     "metadata": {},
     "output_type": "execute_result"
    }
   ],
   "source": [
    "df_femalesmoker[['bmi', 'charges']].corr(method ='pearson')"
   ]
  },
  {
   "cell_type": "markdown",
   "id": "d7c4f7b7",
   "metadata": {},
   "source": [
    "#### 3.4.5 Correlation Between Region and Charges"
   ]
  },
  {
   "cell_type": "code",
   "execution_count": 181,
   "id": "90ed6631",
   "metadata": {},
   "outputs": [
    {
     "data": {
      "text/plain": [
       "[Text(0.5, 1.0, 'BMI vs Charges by Region'),\n",
       " Text(0.5, 0, 'BMI'),\n",
       " Text(0, 0.5, 'Charges')]"
      ]
     },
     "execution_count": 181,
     "metadata": {},
     "output_type": "execute_result"
    },
    {
     "data": {
      "image/png": "[encoded data removed]",
      "text/plain": [
       "<Figure size 432x288 with 1 Axes>"
      ]
     },
     "metadata": {
      "needs_background": "light"
     },
     "output_type": "display_data"
    }
   ],
   "source": [
    "df = data_csv\n",
    "df_filt = df.filter(items=['bmi', 'charges', 'region'])\n",
    "p = sns.scatterplot(data=df_filt, x=\"bmi\", y=\"charges\", hue=\"region\")\n",
    "\n",
    "p.set(title=\"BMI vs Charges by Region\", xlabel=\"BMI\", ylabel=\"Charges\")"
   ]
  },
  {
   "cell_type": "code",
   "execution_count": 182,
   "id": "57769336",
   "metadata": {},
   "outputs": [
    {
     "data": {
      "text/html": [
       "<div>\n",
       "<style scoped>\n",
       "    .dataframe tbody tr th:only-of-type {\n",
       "        vertical-align: middle;\n",
       "    }\n",
       "\n",
       "    .dataframe tbody tr th {\n",
       "        vertical-align: top;\n",
       "    }\n",
       "\n",
       "    .dataframe thead th {\n",
       "        text-align: right;\n",
       "    }\n",
       "</style>\n",
       "<table border=\"1\" class=\"dataframe\">\n",
       "  <thead>\n",
       "    <tr style=\"text-align: right;\">\n",
       "      <th></th>\n",
       "      <th>bmi</th>\n",
       "      <th>charges</th>\n",
       "    </tr>\n",
       "  </thead>\n",
       "  <tbody>\n",
       "    <tr>\n",
       "      <th>bmi</th>\n",
       "      <td>1.000000</td>\n",
       "      <td>0.198341</td>\n",
       "    </tr>\n",
       "    <tr>\n",
       "      <th>charges</th>\n",
       "      <td>0.198341</td>\n",
       "      <td>1.000000</td>\n",
       "    </tr>\n",
       "  </tbody>\n",
       "</table>\n",
       "</div>"
      ],
      "text/plain": [
       "              bmi   charges\n",
       "bmi      1.000000  0.198341\n",
       "charges  0.198341  1.000000"
      ]
     },
     "execution_count": 182,
     "metadata": {},
     "output_type": "execute_result"
    }
   ],
   "source": [
    "df_filt.corr(method=\"pearson\")"
   ]
  },
  {
   "cell_type": "markdown",
   "id": "3b0ecc96",
   "metadata": {},
   "source": [
    "#### 3.4.5.1 Correlation Between Southwest Region and Charges "
   ]
  },
  {
   "cell_type": "code",
   "execution_count": 178,
   "id": "ec766dd1",
   "metadata": {},
   "outputs": [
    {
     "data": {
      "text/plain": [
       "Text(0.5, 1.0, 'Southwest Region vs Charges')"
      ]
     },
     "execution_count": 178,
     "metadata": {},
     "output_type": "execute_result"
    },
    {
     "data": {
      "image/png": "[encoded data removed]",
      "text/plain": [
       "<Figure size 432x288 with 1 Axes>"
      ]
     },
     "metadata": {
      "needs_background": "light"
     },
     "output_type": "display_data"
    }
   ],
   "source": [
    "df = data_csv \n",
    "\n",
    "df_filt = df.filter(items=['bmi', 'charges', 'region'])\n",
    "\n",
    "df_southwest = df_filt[df_filt['region'] == 'southwest']\n",
    "\n",
    "plt.scatter(df_southwest['bmi'], df_southwest['charges'])\n",
    "plt.xlabel('Southwest Region')\n",
    "plt.ylabel('Charges')\n",
    "plt.title('Southwest Region vs Charges')"
   ]
  },
  {
   "cell_type": "code",
   "execution_count": 179,
   "id": "55db934b",
   "metadata": {},
   "outputs": [
    {
     "data": {
      "text/html": [
       "<div>\n",
       "<style scoped>\n",
       "    .dataframe tbody tr th:only-of-type {\n",
       "        vertical-align: middle;\n",
       "    }\n",
       "\n",
       "    .dataframe tbody tr th {\n",
       "        vertical-align: top;\n",
       "    }\n",
       "\n",
       "    .dataframe thead th {\n",
       "        text-align: right;\n",
       "    }\n",
       "</style>\n",
       "<table border=\"1\" class=\"dataframe\">\n",
       "  <thead>\n",
       "    <tr style=\"text-align: right;\">\n",
       "      <th></th>\n",
       "      <th>bmi</th>\n",
       "      <th>charges</th>\n",
       "    </tr>\n",
       "  </thead>\n",
       "  <tbody>\n",
       "    <tr>\n",
       "      <th>bmi</th>\n",
       "      <td>1.000000</td>\n",
       "      <td>0.222928</td>\n",
       "    </tr>\n",
       "    <tr>\n",
       "      <th>charges</th>\n",
       "      <td>0.222928</td>\n",
       "      <td>1.000000</td>\n",
       "    </tr>\n",
       "  </tbody>\n",
       "</table>\n",
       "</div>"
      ],
      "text/plain": [
       "              bmi   charges\n",
       "bmi      1.000000  0.222928\n",
       "charges  0.222928  1.000000"
      ]
     },
     "execution_count": 179,
     "metadata": {},
     "output_type": "execute_result"
    }
   ],
   "source": [
    "df_southwest[['bmi', 'charges']].corr(method ='pearson')"
   ]
  },
  {
   "cell_type": "markdown",
   "id": "79981e81",
   "metadata": {},
   "source": [
    "#### 3.4.5.2 Correlation Between Southeast Region and Charges "
   ]
  },
  {
   "cell_type": "code",
   "execution_count": 183,
   "id": "1afe3108",
   "metadata": {},
   "outputs": [
    {
     "data": {
      "text/plain": [
       "Text(0.5, 1.0, 'Southeast Region vs Charges')"
      ]
     },
     "execution_count": 183,
     "metadata": {},
     "output_type": "execute_result"
    },
    {
     "data": {
      "image/png": "[encoded data removed]",
      "text/plain": [
       "<Figure size 432x288 with 1 Axes>"
      ]
     },
     "metadata": {
      "needs_background": "light"
     },
     "output_type": "display_data"
    }
   ],
   "source": [
    "df = data_csv \n",
    "\n",
    "df_filt = df.filter(items=['bmi', 'charges', 'region'])\n",
    "\n",
    "df_southeast = df_filt[df_filt['region'] == 'southeast']\n",
    "\n",
    "plt.scatter(df_southeast['bmi'], df_southeast['charges'])\n",
    "plt.xlabel('Southeast Region')\n",
    "plt.ylabel('Charges')\n",
    "plt.title('Southeast Region vs Charges')"
   ]
  },
  {
   "cell_type": "code",
   "execution_count": 185,
   "id": "78eefb80",
   "metadata": {},
   "outputs": [
    {
     "data": {
      "text/html": [
       "<div>\n",
       "<style scoped>\n",
       "    .dataframe tbody tr th:only-of-type {\n",
       "        vertical-align: middle;\n",
       "    }\n",
       "\n",
       "    .dataframe tbody tr th {\n",
       "        vertical-align: top;\n",
       "    }\n",
       "\n",
       "    .dataframe thead th {\n",
       "        text-align: right;\n",
       "    }\n",
       "</style>\n",
       "<table border=\"1\" class=\"dataframe\">\n",
       "  <thead>\n",
       "    <tr style=\"text-align: right;\">\n",
       "      <th></th>\n",
       "      <th>bmi</th>\n",
       "      <th>charges</th>\n",
       "    </tr>\n",
       "  </thead>\n",
       "  <tbody>\n",
       "    <tr>\n",
       "      <th>bmi</th>\n",
       "      <td>1.000000</td>\n",
       "      <td>0.142994</td>\n",
       "    </tr>\n",
       "    <tr>\n",
       "      <th>charges</th>\n",
       "      <td>0.142994</td>\n",
       "      <td>1.000000</td>\n",
       "    </tr>\n",
       "  </tbody>\n",
       "</table>\n",
       "</div>"
      ],
      "text/plain": [
       "              bmi   charges\n",
       "bmi      1.000000  0.142994\n",
       "charges  0.142994  1.000000"
      ]
     },
     "execution_count": 185,
     "metadata": {},
     "output_type": "execute_result"
    }
   ],
   "source": [
    "df_southeast[['bmi', 'charges']].corr(method ='pearson')"
   ]
  },
  {
   "cell_type": "markdown",
   "id": "ead714ff",
   "metadata": {},
   "source": [
    "#### 3.4.5.3 Correlation Between Northeast Region and Charges "
   ]
  },
  {
   "cell_type": "code",
   "execution_count": 186,
   "id": "0b00c4ff",
   "metadata": {},
   "outputs": [
    {
     "data": {
      "text/plain": [
       "Text(0.5, 1.0, 'Northeast Region vs Charges')"
      ]
     },
     "execution_count": 186,
     "metadata": {},
     "output_type": "execute_result"
    },
    {
     "data": {
      "image/png": "[encoded data removed]",
      "text/plain": [
       "<Figure size 432x288 with 1 Axes>"
      ]
     },
     "metadata": {
      "needs_background": "light"
     },
     "output_type": "display_data"
    }
   ],
   "source": [
    "df = data_csv \n",
    "\n",
    "df_filt = df.filter(items=['bmi', 'charges', 'region'])\n",
    "\n",
    "df_northeast = df_filt[df_filt['region'] == 'northeast']\n",
    "\n",
    "plt.scatter(df_northeast['bmi'], df_northeast['charges'])\n",
    "plt.xlabel('Northeast Region')\n",
    "plt.ylabel('Charges')\n",
    "plt.title('Northeast Region vs Charges')"
   ]
  },
  {
   "cell_type": "code",
   "execution_count": 187,
   "id": "8efd36b1",
   "metadata": {},
   "outputs": [
    {
     "data": {
      "text/html": [
       "<div>\n",
       "<style scoped>\n",
       "    .dataframe tbody tr th:only-of-type {\n",
       "        vertical-align: middle;\n",
       "    }\n",
       "\n",
       "    .dataframe tbody tr th {\n",
       "        vertical-align: top;\n",
       "    }\n",
       "\n",
       "    .dataframe thead th {\n",
       "        text-align: right;\n",
       "    }\n",
       "</style>\n",
       "<table border=\"1\" class=\"dataframe\">\n",
       "  <thead>\n",
       "    <tr style=\"text-align: right;\">\n",
       "      <th></th>\n",
       "      <th>bmi</th>\n",
       "      <th>charges</th>\n",
       "    </tr>\n",
       "  </thead>\n",
       "  <tbody>\n",
       "    <tr>\n",
       "      <th>bmi</th>\n",
       "      <td>1.000000</td>\n",
       "      <td>0.231712</td>\n",
       "    </tr>\n",
       "    <tr>\n",
       "      <th>charges</th>\n",
       "      <td>0.231712</td>\n",
       "      <td>1.000000</td>\n",
       "    </tr>\n",
       "  </tbody>\n",
       "</table>\n",
       "</div>"
      ],
      "text/plain": [
       "              bmi   charges\n",
       "bmi      1.000000  0.231712\n",
       "charges  0.231712  1.000000"
      ]
     },
     "execution_count": 187,
     "metadata": {},
     "output_type": "execute_result"
    }
   ],
   "source": [
    "df_northeast[['bmi', 'charges']].corr(method ='pearson')"
   ]
  },
  {
   "cell_type": "markdown",
   "id": "886d98dc",
   "metadata": {},
   "source": [
    "#### 3.4.5.4 Correlation Between Northwest Region and Charges "
   ]
  },
  {
   "cell_type": "code",
   "execution_count": 188,
   "id": "8600638c",
   "metadata": {},
   "outputs": [
    {
     "data": {
      "text/plain": [
       "Text(0.5, 1.0, 'Northwest Region vs Charges')"
      ]
     },
     "execution_count": 188,
     "metadata": {},
     "output_type": "execute_result"
    },
    {
     "data": {
      "image/png": "[encoded data removed]",
      "text/plain": [
       "<Figure size 432x288 with 1 Axes>"
      ]
     },
     "metadata": {
      "needs_background": "light"
     },
     "output_type": "display_data"
    }
   ],
   "source": [
    "df = data_csv \n",
    "\n",
    "df_filt = df.filter(items=['bmi', 'charges', 'region'])\n",
    "\n",
    "df_northwest = df_filt[df_filt['region'] == 'northwest']\n",
    "\n",
    "plt.scatter(df_northwest['bmi'], df_northwest['charges'])\n",
    "plt.xlabel('Northwest Region')\n",
    "plt.ylabel('Charges')\n",
    "plt.title('Northwest Region vs Charges')"
   ]
  },
  {
   "cell_type": "code",
   "execution_count": 189,
   "id": "1dbe9c47",
   "metadata": {},
   "outputs": [
    {
     "data": {
      "text/html": [
       "<div>\n",
       "<style scoped>\n",
       "    .dataframe tbody tr th:only-of-type {\n",
       "        vertical-align: middle;\n",
       "    }\n",
       "\n",
       "    .dataframe tbody tr th {\n",
       "        vertical-align: top;\n",
       "    }\n",
       "\n",
       "    .dataframe thead th {\n",
       "        text-align: right;\n",
       "    }\n",
       "</style>\n",
       "<table border=\"1\" class=\"dataframe\">\n",
       "  <thead>\n",
       "    <tr style=\"text-align: right;\">\n",
       "      <th></th>\n",
       "      <th>bmi</th>\n",
       "      <th>charges</th>\n",
       "    </tr>\n",
       "  </thead>\n",
       "  <tbody>\n",
       "    <tr>\n",
       "      <th>bmi</th>\n",
       "      <td>1.000000</td>\n",
       "      <td>0.181073</td>\n",
       "    </tr>\n",
       "    <tr>\n",
       "      <th>charges</th>\n",
       "      <td>0.181073</td>\n",
       "      <td>1.000000</td>\n",
       "    </tr>\n",
       "  </tbody>\n",
       "</table>\n",
       "</div>"
      ],
      "text/plain": [
       "              bmi   charges\n",
       "bmi      1.000000  0.181073\n",
       "charges  0.181073  1.000000"
      ]
     },
     "execution_count": 189,
     "metadata": {},
     "output_type": "execute_result"
    }
   ],
   "source": [
    "df_northwest[['bmi', 'charges']].corr(method ='pearson')"
   ]
  },
  {
   "cell_type": "markdown",
   "id": "3e7f4c71",
   "metadata": {},
   "source": [
    "### 3.5 Hypothesis Testing "
   ]
  },
  {
   "cell_type": "markdown",
   "id": "794253bb",
   "metadata": {},
   "source": [
    "### 3.5.1 Is the mean charges for smoker greater than non smoker? "
   ]
  },
  {
   "cell_type": "markdown",
   "id": "8dc0f4e5",
   "metadata": {},
   "source": [
    "#### Exploring data and sampling"
   ]
  },
  {
   "cell_type": "code",
   "execution_count": 9,
   "id": "193fe998",
   "metadata": {},
   "outputs": [
    {
     "data": {
      "text/html": [
       "<div>\n",
       "<style scoped>\n",
       "    .dataframe tbody tr th:only-of-type {\n",
       "        vertical-align: middle;\n",
       "    }\n",
       "\n",
       "    .dataframe tbody tr th {\n",
       "        vertical-align: top;\n",
       "    }\n",
       "\n",
       "    .dataframe thead th {\n",
       "        text-align: right;\n",
       "    }\n",
       "</style>\n",
       "<table border=\"1\" class=\"dataframe\">\n",
       "  <thead>\n",
       "    <tr style=\"text-align: right;\">\n",
       "      <th></th>\n",
       "      <th>count</th>\n",
       "      <th>mean</th>\n",
       "      <th>std</th>\n",
       "      <th>min</th>\n",
       "      <th>25%</th>\n",
       "      <th>50%</th>\n",
       "      <th>75%</th>\n",
       "      <th>max</th>\n",
       "    </tr>\n",
       "    <tr>\n",
       "      <th>smoker</th>\n",
       "      <th></th>\n",
       "      <th></th>\n",
       "      <th></th>\n",
       "      <th></th>\n",
       "      <th></th>\n",
       "      <th></th>\n",
       "      <th></th>\n",
       "      <th></th>\n",
       "    </tr>\n",
       "  </thead>\n",
       "  <tbody>\n",
       "    <tr>\n",
       "      <th>no</th>\n",
       "      <td>1064.0</td>\n",
       "      <td>8434.268298</td>\n",
       "      <td>5993.781819</td>\n",
       "      <td>1121.8739</td>\n",
       "      <td>3986.438700</td>\n",
       "      <td>7345.40530</td>\n",
       "      <td>11362.887050</td>\n",
       "      <td>36910.60803</td>\n",
       "    </tr>\n",
       "    <tr>\n",
       "      <th>yes</th>\n",
       "      <td>274.0</td>\n",
       "      <td>32050.231832</td>\n",
       "      <td>11541.547176</td>\n",
       "      <td>12829.4551</td>\n",
       "      <td>20826.244213</td>\n",
       "      <td>34456.34845</td>\n",
       "      <td>41019.207275</td>\n",
       "      <td>63770.42801</td>\n",
       "    </tr>\n",
       "  </tbody>\n",
       "</table>\n",
       "</div>"
      ],
      "text/plain": [
       "         count          mean           std         min           25%  \\\n",
       "smoker                                                                 \n",
       "no      1064.0   8434.268298   5993.781819   1121.8739   3986.438700   \n",
       "yes      274.0  32050.231832  11541.547176  12829.4551  20826.244213   \n",
       "\n",
       "                50%           75%          max  \n",
       "smoker                                          \n",
       "no       7345.40530  11362.887050  36910.60803  \n",
       "yes     34456.34845  41019.207275  63770.42801  "
      ]
     },
     "execution_count": 9,
     "metadata": {},
     "output_type": "execute_result"
    }
   ],
   "source": [
    "# Smoker vs non smoker data statistical summary \n",
    "\n",
    "df = data_csv \n",
    "\n",
    "df.groupby('smoker')['charges'].describe()"
   ]
  },
  {
   "cell_type": "code",
   "execution_count": 88,
   "id": "6f4926a8",
   "metadata": {},
   "outputs": [],
   "source": [
    "# Hypothesis testing by using sample size of n = 50 \n",
    "\n",
    "df = data_csv \n",
    "\n",
    "df_filt = df.filter(items=['bmi', 'charges', 'smoker'])\n",
    "\n",
    "\n",
    "df_nonsmoker = df_filt[df_filt['smoker'] == 'no']['charges'] \n",
    "df_smoker = df_filt[df_filt['smoker'] == 'yes']['charges'] \n",
    "\n",
    "\n",
    "# 50 smokers and non smokers are randomly sampled \n",
    "\n",
    "df_n50_nonsmoker = df_nonsmoker.sample(50)\n",
    "df_n50_smoker = df_smoker.sample(50)"
   ]
  },
  {
   "cell_type": "code",
   "execution_count": 89,
   "id": "bd3af29e",
   "metadata": {},
   "outputs": [
    {
     "data": {
      "text/plain": [
       "count       50.000000\n",
       "mean      8080.644350\n",
       "std       4644.357211\n",
       "min       1242.816000\n",
       "25%       4090.893362\n",
       "50%       7543.910700\n",
       "75%      11132.659542\n",
       "max      21595.382290\n",
       "Name: charges, dtype: float64"
      ]
     },
     "execution_count": 89,
     "metadata": {},
     "output_type": "execute_result"
    }
   ],
   "source": [
    "# Statistics summary for smoker sample \n",
    "\n",
    "df_n50_nonsmoker.describe()"
   ]
  },
  {
   "cell_type": "code",
   "execution_count": 90,
   "id": "33b4ebf7",
   "metadata": {},
   "outputs": [
    {
     "data": {
      "text/plain": [
       "count       50.000000\n",
       "mean     34511.782081\n",
       "std      10659.549741\n",
       "min      15817.985700\n",
       "25%      24557.052750\n",
       "50%      35636.051090\n",
       "75%      42255.828013\n",
       "max      60021.398970\n",
       "Name: charges, dtype: float64"
      ]
     },
     "execution_count": 90,
     "metadata": {},
     "output_type": "execute_result"
    }
   ],
   "source": [
    "# Statistics summary for non-smoker sample \n",
    "\n",
    "df_n50_smoker.describe()"
   ]
  },
  {
   "cell_type": "markdown",
   "id": "e29f4b21",
   "metadata": {},
   "source": [
    "#### Hypothesis Testing"
   ]
  },
  {
   "cell_type": "code",
   "execution_count": 221,
   "id": "b35f286b",
   "metadata": {},
   "outputs": [
    {
     "name": "stdout",
     "output_type": "stream",
     "text": [
      "Statistics = 16.073810762501978, p-value = 5.638954872549742e-25\n"
     ]
    }
   ],
   "source": [
    "# Let df_n50_smoker be mean 1, and df_n50_nonsmoker be mean 2 \n",
    "# Hypothesis testing using upper tailed t-test with sample size of 50 \n",
    "# H0 => mean1 = mean2 \n",
    "# H1 => mean1 > mean2\n",
    "# alpha = 0.05, reject H0 if p < 0.05 \n",
    "# variance 1 != variance 2 \n",
    "\n",
    "from scipy.stats import ttest_ind\n",
    "\n",
    "alpha = 0.05 \n",
    "\n",
    "stat, p = ttest_ind(a = df_n50_smoker, b = df_n50_nonsmoker, equal_var=False, alternative='greater')\n",
    "\n",
    "print(f\"Statistics = {stat}, p-value = {p}\") "
   ]
  },
  {
   "cell_type": "markdown",
   "id": "567e951a",
   "metadata": {},
   "source": [
    "#### Conclusion"
   ]
  },
  {
   "cell_type": "code",
   "execution_count": 222,
   "id": "bbe0343c",
   "metadata": {},
   "outputs": [
    {
     "name": "stdout",
     "output_type": "stream",
     "text": [
      "Two group means are different (Sufficient evidence to reject H0)\n"
     ]
    }
   ],
   "source": [
    "# Decision Making \n",
    "if p > alpha:\n",
    "    print('Two group means are equal (Not enough evidence to reject H0)') \n",
    "else:\n",
    "    print('Two group means are different (Sufficient evidence to reject H0)')"
   ]
  },
  {
   "cell_type": "markdown",
   "id": "5e7b9d0a",
   "metadata": {},
   "source": [
    "### 3.5.2 Is the mean charges of individuals with BMI > 25 higher than BMI < 25? "
   ]
  },
  {
   "cell_type": "markdown",
   "id": "243956be",
   "metadata": {},
   "source": [
    "#### Exploring data and sampling"
   ]
  },
  {
   "cell_type": "code",
   "execution_count": 22,
   "id": "e8c342c9",
   "metadata": {},
   "outputs": [
    {
     "data": {
      "text/html": [
       "<div>\n",
       "<style scoped>\n",
       "    .dataframe tbody tr th:only-of-type {\n",
       "        vertical-align: middle;\n",
       "    }\n",
       "\n",
       "    .dataframe tbody tr th {\n",
       "        vertical-align: top;\n",
       "    }\n",
       "\n",
       "    .dataframe thead th {\n",
       "        text-align: right;\n",
       "    }\n",
       "</style>\n",
       "<table border=\"1\" class=\"dataframe\">\n",
       "  <thead>\n",
       "    <tr style=\"text-align: right;\">\n",
       "      <th></th>\n",
       "      <th>count</th>\n",
       "      <th>mean</th>\n",
       "      <th>std</th>\n",
       "      <th>min</th>\n",
       "      <th>25%</th>\n",
       "      <th>50%</th>\n",
       "      <th>75%</th>\n",
       "      <th>max</th>\n",
       "    </tr>\n",
       "    <tr>\n",
       "      <th>bmi-range</th>\n",
       "      <th></th>\n",
       "      <th></th>\n",
       "      <th></th>\n",
       "      <th></th>\n",
       "      <th></th>\n",
       "      <th></th>\n",
       "      <th></th>\n",
       "      <th></th>\n",
       "    </tr>\n",
       "  </thead>\n",
       "  <tbody>\n",
       "    <tr>\n",
       "      <th>greater than 25</th>\n",
       "      <td>1091.0</td>\n",
       "      <td>13946.476035</td>\n",
       "      <td>12834.725537</td>\n",
       "      <td>1131.5066</td>\n",
       "      <td>4889.51815</td>\n",
       "      <td>9563.0290</td>\n",
       "      <td>17654.442975</td>\n",
       "      <td>63770.42801</td>\n",
       "    </tr>\n",
       "    <tr>\n",
       "      <th>less than 25</th>\n",
       "      <td>245.0</td>\n",
       "      <td>10282.224474</td>\n",
       "      <td>7520.485850</td>\n",
       "      <td>1121.8739</td>\n",
       "      <td>3861.20965</td>\n",
       "      <td>8582.3023</td>\n",
       "      <td>14571.890800</td>\n",
       "      <td>35069.37452</td>\n",
       "    </tr>\n",
       "  </tbody>\n",
       "</table>\n",
       "</div>"
      ],
      "text/plain": [
       "                  count          mean           std        min         25%  \\\n",
       "bmi-range                                                                    \n",
       "greater than 25  1091.0  13946.476035  12834.725537  1131.5066  4889.51815   \n",
       "less than 25      245.0  10282.224474   7520.485850  1121.8739  3861.20965   \n",
       "\n",
       "                       50%           75%          max  \n",
       "bmi-range                                              \n",
       "greater than 25  9563.0290  17654.442975  63770.42801  \n",
       "less than 25     8582.3023  14571.890800  35069.37452  "
      ]
     },
     "execution_count": 22,
     "metadata": {},
     "output_type": "execute_result"
    }
   ],
   "source": [
    "df = data_csv \n",
    "\n",
    "\n",
    "df.loc[(df[\"bmi\"] > 25), \"bmi-range\"] = \"greater than 25\"\n",
    "df.loc[(df[\"bmi\"] < 25), \"bmi-range\"] = \"less than 25\"\n",
    "       \n",
    "df.groupby('bmi-range')['charges'].describe()"
   ]
  },
  {
   "cell_type": "code",
   "execution_count": 93,
   "id": "50ce9922",
   "metadata": {},
   "outputs": [],
   "source": [
    "# Hypothesis testing by using sample size of n = 50 \n",
    "\n",
    "df = data_csv \n",
    "\n",
    "df_filt = df.filter(items=['bmi', 'charges']) \n",
    "\n",
    "# Note: bmigt25: BMI greater than 25, bmilt25: BMI less than 25\n",
    "\n",
    "df_bmigt25 = df_filt[df_filt['bmi'] > 25]['charges'] \n",
    "df_bmilt25 = df_filt[df_filt['bmi'] < 25]['charges']\n",
    "\n",
    "\n",
    "# 50 smokers and non smokers are randomly sampled \n",
    "\n",
    "df_n50_bmigt25 = df_bmigt25.sample(50)\n",
    "df_n50_bmilt25 = df_bmilt25.sample(50)"
   ]
  },
  {
   "cell_type": "code",
   "execution_count": 56,
   "id": "883adb12",
   "metadata": {},
   "outputs": [
    {
     "data": {
      "text/plain": [
       "count       50.000000\n",
       "mean     16468.804985\n",
       "std      14898.858419\n",
       "min       1532.469700\n",
       "25%       5509.014500\n",
       "50%      10424.953650\n",
       "75%      24441.652755\n",
       "max      62592.873090\n",
       "Name: charges, dtype: float64"
      ]
     },
     "execution_count": 56,
     "metadata": {},
     "output_type": "execute_result"
    }
   ],
   "source": [
    "df_n50_bmigt25.describe()"
   ]
  },
  {
   "cell_type": "code",
   "execution_count": 57,
   "id": "27b41e09",
   "metadata": {},
   "outputs": [
    {
     "data": {
      "text/plain": [
       "count       50.000000\n",
       "mean     10207.577637\n",
       "std       7762.766287\n",
       "min       1121.873900\n",
       "25%       3413.645437\n",
       "50%       8752.733375\n",
       "75%      15710.590000\n",
       "max      32734.186300\n",
       "Name: charges, dtype: float64"
      ]
     },
     "execution_count": 57,
     "metadata": {},
     "output_type": "execute_result"
    }
   ],
   "source": [
    "df_n50_bmilt25.describe()"
   ]
  },
  {
   "cell_type": "markdown",
   "id": "690a3aa0",
   "metadata": {},
   "source": [
    "#### Hypothesis Testing"
   ]
  },
  {
   "cell_type": "code",
   "execution_count": 68,
   "id": "af24fabb",
   "metadata": {},
   "outputs": [
    {
     "name": "stdout",
     "output_type": "stream",
     "text": [
      "Statistics = 2.6353473754867416, p-value = 0.00511946214739432\n"
     ]
    }
   ],
   "source": [
    "# Let df_n50_bmigt25 be mean 1, and df_n50_bmilt25 be mean 2 \n",
    "# Hypothesis testing using upper tailed t-test with sample size of 50 \n",
    "# H0 => mean1 = mean2 \n",
    "# H1 => mean1 > mean2\n",
    "# alpha = 0.05, reject H0 if p < 0.05 \n",
    "# variance 1 != variance 2 \n",
    "\n",
    "from scipy.stats import ttest_ind\n",
    "\n",
    "alpha = 0.05 \n",
    "\n",
    "stat, p = ttest_ind(a = df_n50_bmigt25, b = df_n50_bmilt25, equal_var=False, alternative='greater')\n",
    "\n",
    "print(f\"Statistics = {stat}, p-value = {p}\") "
   ]
  },
  {
   "cell_type": "markdown",
   "id": "ae4ea2f0",
   "metadata": {},
   "source": [
    "#### Decision Making "
   ]
  },
  {
   "cell_type": "code",
   "execution_count": 69,
   "id": "19abb8d3",
   "metadata": {},
   "outputs": [
    {
     "name": "stdout",
     "output_type": "stream",
     "text": [
      "Two group means are different (Sufficient evidence to reject H0)\n"
     ]
    }
   ],
   "source": [
    "if p > alpha:\n",
    "    print('Two group means are equal (Not enough evidence to reject H0)') \n",
    "else:\n",
    "    print('Two group means are different (Sufficient evidence to reject H0)')"
   ]
  },
  {
   "cell_type": "markdown",
   "id": "48043d33",
   "metadata": {},
   "source": [
    "### 3.5.3 Is the mean charges of male greater than female? "
   ]
  },
  {
   "cell_type": "markdown",
   "id": "e2b837fc",
   "metadata": {},
   "source": [
    "#### Exploring data and sampling"
   ]
  },
  {
   "cell_type": "code",
   "execution_count": 70,
   "id": "3073613e",
   "metadata": {},
   "outputs": [
    {
     "data": {
      "text/html": [
       "<div>\n",
       "<style scoped>\n",
       "    .dataframe tbody tr th:only-of-type {\n",
       "        vertical-align: middle;\n",
       "    }\n",
       "\n",
       "    .dataframe tbody tr th {\n",
       "        vertical-align: top;\n",
       "    }\n",
       "\n",
       "    .dataframe thead th {\n",
       "        text-align: right;\n",
       "    }\n",
       "</style>\n",
       "<table border=\"1\" class=\"dataframe\">\n",
       "  <thead>\n",
       "    <tr style=\"text-align: right;\">\n",
       "      <th></th>\n",
       "      <th>count</th>\n",
       "      <th>mean</th>\n",
       "      <th>std</th>\n",
       "      <th>min</th>\n",
       "      <th>25%</th>\n",
       "      <th>50%</th>\n",
       "      <th>75%</th>\n",
       "      <th>max</th>\n",
       "    </tr>\n",
       "    <tr>\n",
       "      <th>sex</th>\n",
       "      <th></th>\n",
       "      <th></th>\n",
       "      <th></th>\n",
       "      <th></th>\n",
       "      <th></th>\n",
       "      <th></th>\n",
       "      <th></th>\n",
       "      <th></th>\n",
       "    </tr>\n",
       "  </thead>\n",
       "  <tbody>\n",
       "    <tr>\n",
       "      <th>female</th>\n",
       "      <td>662.0</td>\n",
       "      <td>12569.578844</td>\n",
       "      <td>11128.703801</td>\n",
       "      <td>1607.5101</td>\n",
       "      <td>4885.1587</td>\n",
       "      <td>9412.96250</td>\n",
       "      <td>14454.691825</td>\n",
       "      <td>63770.42801</td>\n",
       "    </tr>\n",
       "    <tr>\n",
       "      <th>male</th>\n",
       "      <td>676.0</td>\n",
       "      <td>13956.751178</td>\n",
       "      <td>12971.025915</td>\n",
       "      <td>1121.8739</td>\n",
       "      <td>4619.1340</td>\n",
       "      <td>9369.61575</td>\n",
       "      <td>18989.590250</td>\n",
       "      <td>62592.87309</td>\n",
       "    </tr>\n",
       "  </tbody>\n",
       "</table>\n",
       "</div>"
      ],
      "text/plain": [
       "        count          mean           std        min        25%         50%  \\\n",
       "sex                                                                           \n",
       "female  662.0  12569.578844  11128.703801  1607.5101  4885.1587  9412.96250   \n",
       "male    676.0  13956.751178  12971.025915  1121.8739  4619.1340  9369.61575   \n",
       "\n",
       "                 75%          max  \n",
       "sex                                \n",
       "female  14454.691825  63770.42801  \n",
       "male    18989.590250  62592.87309  "
      ]
     },
     "execution_count": 70,
     "metadata": {},
     "output_type": "execute_result"
    }
   ],
   "source": [
    "df = data_csv \n",
    "\n",
    "df.groupby('sex')['charges'].describe()"
   ]
  },
  {
   "cell_type": "code",
   "execution_count": 83,
   "id": "fe90d8a3",
   "metadata": {},
   "outputs": [],
   "source": [
    "# Hypothesis testing by using sample size of n = 50 \n",
    "\n",
    "df = data_csv \n",
    "\n",
    "df_filt = df.filter(items=['bmi', 'charges', 'sex'])\n",
    "\n",
    "df_female = df_filt[df_filt['sex'] == 'female']['charges'] \n",
    "df_male = df_filt[df_filt['sex'] == 'male']['charges'] \n",
    "\n",
    "df_n50_female = df_female.sample(50)\n",
    "df_n50_male = df_male.sample(50)"
   ]
  },
  {
   "cell_type": "code",
   "execution_count": 84,
   "id": "cabe7397",
   "metadata": {
    "scrolled": true
   },
   "outputs": [
    {
     "data": {
      "text/plain": [
       "count       50.000000\n",
       "mean     12492.664694\n",
       "std      10169.831501\n",
       "min       1633.044400\n",
       "25%       5489.757962\n",
       "50%       9759.966450\n",
       "75%      14417.337938\n",
       "max      44423.803000\n",
       "Name: charges, dtype: float64"
      ]
     },
     "execution_count": 84,
     "metadata": {},
     "output_type": "execute_result"
    }
   ],
   "source": [
    "df_n50_female.describe()"
   ]
  },
  {
   "cell_type": "code",
   "execution_count": 85,
   "id": "cae792c4",
   "metadata": {},
   "outputs": [
    {
     "data": {
      "text/plain": [
       "count       50.000000\n",
       "mean     13417.043383\n",
       "std      13270.373423\n",
       "min       1121.873900\n",
       "25%       4554.380063\n",
       "50%       8823.785550\n",
       "75%      17201.854575\n",
       "max      48673.558800\n",
       "Name: charges, dtype: float64"
      ]
     },
     "execution_count": 85,
     "metadata": {},
     "output_type": "execute_result"
    }
   ],
   "source": [
    "df_n50_male.describe()"
   ]
  },
  {
   "cell_type": "markdown",
   "id": "a3c7520e",
   "metadata": {},
   "source": [
    "#### Hypothesis Testing"
   ]
  },
  {
   "cell_type": "code",
   "execution_count": 86,
   "id": "a0a9d8ab",
   "metadata": {},
   "outputs": [
    {
     "name": "stdout",
     "output_type": "stream",
     "text": [
      "Statistics = 0.3909507474927867, p-value = 0.34836977890781506\n"
     ]
    }
   ],
   "source": [
    "from scipy.stats import ttest_ind\n",
    "\n",
    "alpha = 0.05 \n",
    "\n",
    "stat, p = ttest_ind(a = df_n50_male, b = df_n50_female, equal_var=False, alternative='greater')\n",
    "\n",
    "print(f\"Statistics = {stat}, p-value = {p}\") "
   ]
  },
  {
   "cell_type": "markdown",
   "id": "9f20ccb2",
   "metadata": {},
   "source": [
    "#### Decision Making"
   ]
  },
  {
   "cell_type": "code",
   "execution_count": 87,
   "id": "3abe18cb",
   "metadata": {},
   "outputs": [
    {
     "name": "stdout",
     "output_type": "stream",
     "text": [
      "Two group means are equal (Not enough evidence to reject H0)\n"
     ]
    }
   ],
   "source": [
    "# Pengambilan Keputusan\n",
    "if p > alpha:\n",
    "    print('Two group means are equal (Not enough evidence to reject H0)') \n",
    "else:\n",
    "    print('Two group means are different (Sufficient evidence to reject H0)')"
   ]
  },
  {
   "cell_type": "markdown",
   "id": "213b4504",
   "metadata": {},
   "source": [
    "### 3.6 Regression"
   ]
  },
  {
   "cell_type": "code",
   "execution_count": 44,
   "id": "cea4fea7",
   "metadata": {},
   "outputs": [],
   "source": [
    "import pandas as pd \n",
    "import math as math\n",
    "import seaborn as sns\n",
    "import matplotlib.pyplot as plt\n",
    "from statsmodels.stats.weightstats import ttest_ind\n",
    "import numpy as np\n",
    "import scipy.stats as stats\n",
    "from sklearn.model_selection import train_test_split as holdout\n",
    "from sklearn.linear_model import LinearRegression\n",
    "from sklearn import metrics\n",
    "from sklearn.metrics import mean_absolute_error, mean_squared_error"
   ]
  },
  {
   "cell_type": "code",
   "execution_count": 29,
   "id": "f3e0d403",
   "metadata": {},
   "outputs": [],
   "source": [
    "# 1. Import insurance dataset \n",
    "data_csv = pd.read_csv('/Users/jkurniawan/Documents/Pacmann/Probability/Dataset/insurance.csv') "
   ]
  },
  {
   "cell_type": "code",
   "execution_count": 30,
   "id": "cd60d420",
   "metadata": {},
   "outputs": [],
   "source": [
    "df = data_csv"
   ]
  },
  {
   "cell_type": "code",
   "execution_count": 31,
   "id": "86ac3bea",
   "metadata": {},
   "outputs": [
    {
     "data": {
      "text/plain": [
       "age            int64\n",
       "sex         category\n",
       "bmi          float64\n",
       "children       int64\n",
       "smoker      category\n",
       "region      category\n",
       "charges      float64\n",
       "dtype: object"
      ]
     },
     "execution_count": 31,
     "metadata": {},
     "output_type": "execute_result"
    }
   ],
   "source": [
    "# 2. Converting objects labels into categorical\n",
    "df[['sex', 'smoker', 'region']] = df[['sex', 'smoker', 'region']].astype('category')\n",
    "df.dtypes"
   ]
  },
  {
   "cell_type": "code",
   "execution_count": 32,
   "id": "f3d0f68d",
   "metadata": {},
   "outputs": [
    {
     "data": {
      "text/plain": [
       "age           int64\n",
       "sex           int64\n",
       "bmi         float64\n",
       "children      int64\n",
       "smoker        int64\n",
       "region        int64\n",
       "charges     float64\n",
       "dtype: object"
      ]
     },
     "execution_count": 32,
     "metadata": {},
     "output_type": "execute_result"
    }
   ],
   "source": [
    "# 3. Converting category labels into numerical using LabelEncoder\n",
    "from sklearn.preprocessing import LabelEncoder\n",
    "label = LabelEncoder()\n",
    "label.fit(df.sex.drop_duplicates())\n",
    "df.sex = label.transform(df.sex)\n",
    "label.fit(df.smoker.drop_duplicates())\n",
    "df.smoker = label.transform(df.smoker)\n",
    "label.fit(df.region.drop_duplicates())\n",
    "df.region = label.transform(df.region)\n",
    "df.dtypes"
   ]
  },
  {
   "cell_type": "markdown",
   "id": "00c41e8d",
   "metadata": {},
   "source": [
    "#### 3.6.1 Linear Regression"
   ]
  },
  {
   "cell_type": "code",
   "execution_count": 37,
   "id": "e1888239",
   "metadata": {},
   "outputs": [
    {
     "name": "stdout",
     "output_type": "stream",
     "text": [
      "-12148.873762299518\n",
      "[  262.46750157    39.10830766   332.83680592   611.41232579\n",
      " 23842.62495538  -356.48064676]\n",
      "0.7708744759820262\n"
     ]
    }
   ],
   "source": [
    "x = df.drop(['charges'], axis = 1)\n",
    "y = df['charges']\n",
    "x_train, x_test, y_train, y_test = holdout(x, y, train_size=0.8, test_size=0.2, random_state=15)\n",
    "Lin_reg = LinearRegression(fit_intercept=True)\n",
    "Lin_reg.fit(x_train, y_train)\n",
    "y_pred = Lin_reg.predict(x_train)\n",
    "print(Lin_reg.intercept_)\n",
    "print(Lin_reg.coef_)\n",
    "print(Lin_reg.score(x_test, y_test))"
   ]
  },
  {
   "cell_type": "code",
   "execution_count": 46,
   "id": "ca184d47",
   "metadata": {},
   "outputs": [
    {
     "name": "stdout",
     "output_type": "stream",
     "text": [
      "The accuracy on the training data: 0.745\n",
      "The accuracy on the testing data: 0.771\n",
      " \n",
      "Root Mean Squared Error (RMSE)\n",
      "The RMSE on the training dataset: 6185.346\n",
      "The RMSE on the testing dataset: 5465.54\n",
      " \n",
      "Mean Absolute Error (MAE)\n",
      "The MAE on the training dataset: 4274.754\n",
      "The MAE on the testing dataset: 3936.651\n"
     ]
    }
   ],
   "source": [
    "##Evaluating the performance of the algorithm\n",
    "print('The accuracy on the training data:',Lin_reg.score(x_train, y_train).round(3))\n",
    "print('The accuracy on the testing data:',Lin_reg.score(x_test, y_test).round(3))\n",
    "print(' ')\n",
    "print('Root Mean Squared Error (RMSE)')\n",
    "print('The RMSE on the training dataset:', round(math.sqrt(mean_squared_error(y_train, y_pred)),3))\n",
    "print('The RMSE on the testing dataset:', round(math.sqrt(mean_squared_error(y_test, Lin_reg.predict(x_test))),3))\n",
    "print(' ')\n",
    "print('Mean Absolute Error (MAE)')\n",
    "print('The MAE on the training dataset:', mean_absolute_error(y_train, y_pred).round(3))\n",
    "print('The MAE on the testing dataset:', mean_absolute_error(y_test, Lin_reg.predict(x_test)).round(3))"
   ]
  },
  {
   "cell_type": "code",
   "execution_count": 48,
   "id": "00c8a7cf",
   "metadata": {},
   "outputs": [
    {
     "name": "stderr",
     "output_type": "stream",
     "text": [
      "/var/folders/sc/2pzdw16s78b0gqx1m86y8w200000gn/T/ipykernel_40812/2276134332.py:4: UserWarning: color is redundantly defined by the 'color' keyword argument and the fmt string \"k--\" (-> color='k'). The keyword argument will take precedence.\n",
      "  plt.plot([y_train.min(), y_train.max()],\n"
     ]
    },
    {
     "data": {
      "text/plain": [
       "Text(0.5, 1.0, 'Actual vs Predicted Values')"
      ]
     },
     "execution_count": 48,
     "metadata": {},
     "output_type": "execute_result"
    },
    {
     "data": {
      "image/png": "[encoded data removed]",
      "text/plain": [
       "<Figure size 864x576 with 1 Axes>"
      ]
     },
     "metadata": {
      "needs_background": "light"
     },
     "output_type": "display_data"
    }
   ],
   "source": [
    "plt.figure(figsize = (12,8))\n",
    "plt.scatter(y_train, y_pred);\n",
    "\n",
    "plt.plot([y_train.min(), y_train.max()], \n",
    "         [y_train.min(), y_train.max()], \n",
    "         'k--', \n",
    "         c = 'red',\n",
    "         lw = 4);\n",
    "\n",
    "plt.xlabel('Actual Values')\n",
    "plt.ylabel('Predicted Values')\n",
    "plt.title('Actual vs Predicted Values')"
   ]
  },
  {
   "cell_type": "markdown",
   "id": "8fbf7c7b",
   "metadata": {},
   "source": [
    "#### 3.6.2 Polynomial Regression"
   ]
  },
  {
   "cell_type": "code",
   "execution_count": 51,
   "id": "5058f971",
   "metadata": {},
   "outputs": [
    {
     "name": "stdout",
     "output_type": "stream",
     "text": [
      "-5325.8817052529575\n",
      "[ 0.00000000e+00 -4.01606591e+01  5.23702019e+02  8.52025026e+02\n",
      " -9.52698471e+03  3.04430186e+00  1.84508369e+00  6.01720286e+00\n",
      "  4.20849790e+00 -9.38983382e+00  3.81612289e+00  1.40840670e+03\n",
      " -1.45982790e+02 -4.46151855e+02 -9.52698471e+03]\n",
      "0.8812595703345236\n"
     ]
    }
   ],
   "source": [
    "from sklearn.preprocessing import PolynomialFeatures\n",
    "x = df.drop(['charges', 'sex', 'region'], axis = 1)\n",
    "y = df.charges\n",
    "pol = PolynomialFeatures (degree = 2)\n",
    "x_pol = pol.fit_transform(x)\n",
    "x_train, x_test, y_train, y_test = holdout(x_pol, y, test_size=0.2, random_state=0)\n",
    "Pol_reg = LinearRegression()\n",
    "Pol_reg.fit(x_train, y_train)\n",
    "y_train_pred = Pol_reg.predict(x_train)\n",
    "y_test_pred = Pol_reg.predict(x_test)\n",
    "print(Pol_reg.intercept_)\n",
    "print(Pol_reg.coef_)\n",
    "print(Pol_reg.score(x_test, y_test))"
   ]
  },
  {
   "cell_type": "code",
   "execution_count": 58,
   "id": "ce812192",
   "metadata": {},
   "outputs": [
    {
     "name": "stdout",
     "output_type": "stream",
     "text": [
      "The accuracy on the training data: 0.832\n",
      "The accuracy on the testing data: 0.881\n",
      " \n",
      "Mean Absolute Error: 2824.4950454776417\n",
      "Mean Squared Error: 18895160.098780274\n",
      "Root Mean Squared Error: 4346.8563466924315\n"
     ]
    }
   ],
   "source": [
    "##Evaluating the performance of the algorithm\n",
    "print('The accuracy on the training data:',Pol_reg.score(x_train, y_train).round(3))\n",
    "print('The accuracy on the testing data:',Pol_reg.score(x_test, y_test).round(3))\n",
    "print(' ')\n",
    "\n",
    "print('Mean Absolute Error:', metrics.mean_absolute_error(y_test, y_test_pred))\n",
    "print('Mean Squared Error:', metrics.mean_squared_error(y_test, y_test_pred))\n",
    "print('Root Mean Squared Error:', np.sqrt(metrics.mean_squared_error(y_test, y_test_pred)))"
   ]
  },
  {
   "cell_type": "code",
   "execution_count": 53,
   "id": "4cc09d06",
   "metadata": {},
   "outputs": [
    {
     "data": {
      "text/html": [
       "<div>\n",
       "<style scoped>\n",
       "    .dataframe tbody tr th:only-of-type {\n",
       "        vertical-align: middle;\n",
       "    }\n",
       "\n",
       "    .dataframe tbody tr th {\n",
       "        vertical-align: top;\n",
       "    }\n",
       "\n",
       "    .dataframe thead th {\n",
       "        text-align: right;\n",
       "    }\n",
       "</style>\n",
       "<table border=\"1\" class=\"dataframe\">\n",
       "  <thead>\n",
       "    <tr style=\"text-align: right;\">\n",
       "      <th></th>\n",
       "      <th>Actual</th>\n",
       "      <th>Predicted</th>\n",
       "    </tr>\n",
       "  </thead>\n",
       "  <tbody>\n",
       "    <tr>\n",
       "      <th>578</th>\n",
       "      <td>9724.53000</td>\n",
       "      <td>12101.156323</td>\n",
       "    </tr>\n",
       "    <tr>\n",
       "      <th>610</th>\n",
       "      <td>8547.69130</td>\n",
       "      <td>10440.782266</td>\n",
       "    </tr>\n",
       "    <tr>\n",
       "      <th>569</th>\n",
       "      <td>45702.02235</td>\n",
       "      <td>48541.022951</td>\n",
       "    </tr>\n",
       "    <tr>\n",
       "      <th>1034</th>\n",
       "      <td>12950.07120</td>\n",
       "      <td>14140.067522</td>\n",
       "    </tr>\n",
       "    <tr>\n",
       "      <th>198</th>\n",
       "      <td>9644.25250</td>\n",
       "      <td>8636.235727</td>\n",
       "    </tr>\n",
       "    <tr>\n",
       "      <th>...</th>\n",
       "      <td>...</td>\n",
       "      <td>...</td>\n",
       "    </tr>\n",
       "    <tr>\n",
       "      <th>1084</th>\n",
       "      <td>15019.76005</td>\n",
       "      <td>16712.196281</td>\n",
       "    </tr>\n",
       "    <tr>\n",
       "      <th>726</th>\n",
       "      <td>6664.68595</td>\n",
       "      <td>8654.565461</td>\n",
       "    </tr>\n",
       "    <tr>\n",
       "      <th>1132</th>\n",
       "      <td>20709.02034</td>\n",
       "      <td>12372.050609</td>\n",
       "    </tr>\n",
       "    <tr>\n",
       "      <th>725</th>\n",
       "      <td>40932.42950</td>\n",
       "      <td>41465.617268</td>\n",
       "    </tr>\n",
       "    <tr>\n",
       "      <th>963</th>\n",
       "      <td>9500.57305</td>\n",
       "      <td>10941.780705</td>\n",
       "    </tr>\n",
       "  </tbody>\n",
       "</table>\n",
       "<p>268 rows × 2 columns</p>\n",
       "</div>"
      ],
      "text/plain": [
       "           Actual     Predicted\n",
       "578    9724.53000  12101.156323\n",
       "610    8547.69130  10440.782266\n",
       "569   45702.02235  48541.022951\n",
       "1034  12950.07120  14140.067522\n",
       "198    9644.25250   8636.235727\n",
       "...           ...           ...\n",
       "1084  15019.76005  16712.196281\n",
       "726    6664.68595   8654.565461\n",
       "1132  20709.02034  12372.050609\n",
       "725   40932.42950  41465.617268\n",
       "963    9500.57305  10941.780705\n",
       "\n",
       "[268 rows x 2 columns]"
      ]
     },
     "execution_count": 53,
     "metadata": {},
     "output_type": "execute_result"
    }
   ],
   "source": [
    "##Predicting the charges\n",
    "y_test_pred = Pol_reg.predict(x_test)\n",
    "##Comparing the actual output values with the predicted values\n",
    "df = pd.DataFrame({'Actual': y_test, 'Predicted': y_test_pred})\n",
    "df"
   ]
  },
  {
   "cell_type": "code",
   "execution_count": 57,
   "id": "d27fe17e",
   "metadata": {},
   "outputs": [
    {
     "name": "stderr",
     "output_type": "stream",
     "text": [
      "/var/folders/sc/2pzdw16s78b0gqx1m86y8w200000gn/T/ipykernel_40812/1281901028.py:4: UserWarning: color is redundantly defined by the 'color' keyword argument and the fmt string \"k--\" (-> color='k'). The keyword argument will take precedence.\n",
      "  plt.plot([y_train.min(), y_train.max()],\n"
     ]
    },
    {
     "data": {
      "text/plain": [
       "Text(0.5, 1.0, 'Actual vs Predicted Values')"
      ]
     },
     "execution_count": 57,
     "metadata": {},
     "output_type": "execute_result"
    },
    {
     "data": {
      "image/png": "[encoded data removed]",
      "text/plain": [
       "<Figure size 864x576 with 1 Axes>"
      ]
     },
     "metadata": {
      "needs_background": "light"
     },
     "output_type": "display_data"
    }
   ],
   "source": [
    "plt.figure(figsize = (12,8))\n",
    "plt.scatter(y_train, y_train_pred);\n",
    "\n",
    "plt.plot([y_train.min(), y_train.max()], \n",
    "         [y_train.min(), y_train.max()], \n",
    "         'k--', \n",
    "         c = 'red',\n",
    "         lw = 4);\n",
    "\n",
    "plt.xlabel('Actual Values')\n",
    "plt.ylabel('Predicted Values')\n",
    "plt.title('Actual vs Predicted Values')"
   ]
  },
  {
   "cell_type": "markdown",
   "id": "ff7a9732",
   "metadata": {},
   "source": [
    "#### Conclusion"
   ]
  },
  {
   "cell_type": "markdown",
   "id": "57227e7d",
   "metadata": {},
   "source": [
    "#### Polynomial Regression has a better accuracy than linear regression model. "
   ]
  },
  {
   "cell_type": "code",
   "execution_count": null,
   "id": "95c206a2",
   "metadata": {},
   "outputs": [],
   "source": []
  }
 ],
 "metadata": {
  "kernelspec": {
   "display_name": "Python 3 (ipykernel)",
   "language": "python",
   "name": "python3"
  },
  "language_info": {
   "codemirror_mode": {
    "name": "ipython",
    "version": 3
   },
   "file_extension": ".py",
   "mimetype": "text/x-python",
   "name": "python",
   "nbconvert_exporter": "python",
   "pygments_lexer": "ipython3",
   "version": "3.9.12"
  }
 },
 "nbformat": 4,
 "nbformat_minor": 5
}
